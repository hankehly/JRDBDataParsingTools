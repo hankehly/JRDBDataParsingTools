{
 "cells": [
  {
   "cell_type": "markdown",
   "metadata": {},
   "source": [
    "# Prepare the data"
   ]
  },
  {
   "cell_type": "code",
   "execution_count": 1,
   "metadata": {},
   "outputs": [
    {
     "name": "stderr",
     "output_type": "stream",
     "text": [
      "23/12/28 15:05:33 WARN NativeCodeLoader: Unable to load native-hadoop library for your platform... using builtin-java classes where applicable\n",
      "Setting default log level to \"WARN\".\n",
      "To adjust logging level use sc.setLogLevel(newLevel). For SparkR, use setLogLevel(newLevel).\n"
     ]
    }
   ],
   "source": [
    "from pyspark.sql import SparkSession\n",
    "\n",
    "\n",
    "spark = (\n",
    "    SparkSession.builder\n",
    "    .config(\"spark.executor.memory\", \"16g\")\n",
    "    .config(\"spark.driver.memory\", \"16g\")\n",
    "    .config(\"spark.jars\", \"postgresql-42.7.1.jar\")\n",
    "    .getOrCreate()\n",
    ")"
   ]
  },
  {
   "cell_type": "code",
   "execution_count": 2,
   "metadata": {},
   "outputs": [],
   "source": [
    "df = spark.read.format(\"jdbc\").options(\n",
    "    url=\"jdbc:postgresql://localhost:5432/jrdb\",\n",
    "    dbtable=\"jrdb_curated.features\",\n",
    "    user=\"admin\",\n",
    "    password=\"admin\",\n",
    "    driver=\"org.postgresql.Driver\",\n",
    ").load()"
   ]
  },
  {
   "cell_type": "code",
   "execution_count": 3,
   "metadata": {},
   "outputs": [],
   "source": [
    "feature_dtypes = {\n",
    "    # \"レースキー\",\n",
    "    # \"馬番\",\n",
    "    \"枠番\": \"category\",\n",
    "    \"場名\": \"category\",\n",
    "    # \"年月日\",\n",
    "    # \"頭数\",\n",
    "    \"四半期\": \"category\",\n",
    "    # \"単勝的中\",\n",
    "    # \"単勝払戻金\",\n",
    "    # \"複勝的中\",\n",
    "    # \"複勝払戻金\",\n",
    "    # \"本賞金\",\n",
    "    # \"収得賞金\",\n",
    "    # \"血統登録番号\",\n",
    "    \"瞬発戦好走馬_芝\": \"category\",\n",
    "    \"消耗戦好走馬_芝\": \"category\",\n",
    "    \"瞬発戦好走馬_ダート\": \"category\",\n",
    "    \"消耗戦好走馬_ダート\": \"category\",\n",
    "    \"瞬発戦好走馬_総合\": \"category\",\n",
    "    \"消耗戦好走馬_総合\": \"category\",\n",
    "    \"性別\": \"category\",\n",
    "    \"トラック種別\": \"category\",\n",
    "    \"前日_芝馬場差\": \"float\",\n",
    "    \"前日_ダ馬場差\": \"float\",\n",
    "    \"前日_ＩＤＭ\": \"float\",\n",
    "    \"前日_脚質\": \"category\",\n",
    "    \"前日_単勝オッズ\": \"float\",\n",
    "    \"前日_複勝オッズ\": \"float\",\n",
    "    \"直前_ＩＤＭ\": \"float\",\n",
    "    \"直前_騎手指数\": \"float\",\n",
    "    \"直前_情報指数\": \"float\",\n",
    "    \"直前_オッズ指数\": \"float\",\n",
    "    \"直前_パドック指数\": \"float\",\n",
    "    \"直前_脚元情報\": \"category\",\n",
    "    \"直前_天候\": \"category\",\n",
    "    \"直前_単勝オッズ\": \"float\",\n",
    "    \"直前_複勝オッズ\": \"float\",\n",
    "    \"前走トップ3\": \"category\",\n",
    "    \"前走枠番\": \"category\",\n",
    "    \"入厩何日前\": \"float\",\n",
    "    \"入厩15日未満\": \"category\",\n",
    "    \"入厩35日以上\": \"category\",\n",
    "    \"馬体重\": \"float\",\n",
    "    \"馬体重増減\": \"float\",\n",
    "    \"距離\": \"float\",\n",
    "    \"前走距離差\": \"float\",\n",
    "    # \"馬具コード\",\n",
    "    # \"年齢\",\n",
    "    \"4歳以下\": \"category\",\n",
    "    \"4歳以下頭数\": \"float\",\n",
    "    \"4歳以下割合\": \"float\",\n",
    "    \"レース数\": \"float\",\n",
    "    \"1位完走\": \"float\",\n",
    "    \"トップ3完走\": \"float\",\n",
    "    \"1位完走率\": \"float\",\n",
    "    \"トップ3完走率\": \"float\",\n",
    "    \"場所レース数\": \"float\",\n",
    "    \"場所1位完走\": \"float\",\n",
    "    \"場所トップ3完走\": \"float\",\n",
    "    \"場所1位完走率\": \"float\",\n",
    "    \"場所トップ3完走率\": \"float\",\n",
    "    \"トラック種別レース数\": \"float\",\n",
    "    \"トラック種別1位完走\": \"float\",\n",
    "    \"トラック種別トップ3完走\": \"float\",\n",
    "    \"トラック種別1位完走率\": \"float\",\n",
    "    \"トラック種別トップ3完走率\": \"float\",\n",
    "    \"馬場状態レース数\": \"float\",\n",
    "    \"馬場状態1位完走\": \"float\",\n",
    "    \"馬場状態トップ3完走\": \"float\",\n",
    "    \"馬場状態1位完走率\": \"float\",\n",
    "    \"馬場状態トップ3完走率\": \"float\",\n",
    "    \"距離レース数\": \"float\",\n",
    "    \"距離1位完走\": \"float\",\n",
    "    \"距離トップ3完走\": \"float\",\n",
    "    \"距離1位完走率\": \"float\",\n",
    "    \"距離トップ3完走率\": \"float\",\n",
    "    \"四半期レース数\": \"float\",\n",
    "    \"四半期1位完走\": \"float\",\n",
    "    \"四半期トップ3完走\": \"float\",\n",
    "    \"四半期1位完走率\": \"float\",\n",
    "    \"四半期トップ3完走率\": \"float\",\n",
    "    \"騎手レース数\": \"float\",\n",
    "    \"騎手1位完走\": \"float\",\n",
    "    \"騎手トップ3完走\": \"float\",\n",
    "    \"騎手1位完走率\": \"float\",\n",
    "    \"騎手トップ3完走率\": \"float\",\n",
    "    \"騎手場所レース数\": \"float\",\n",
    "    \"騎手場所1位完走\": \"float\",\n",
    "    \"騎手場所トップ3完走\": \"float\",\n",
    "    \"騎手場所1位完走率\": \"float\",\n",
    "    \"騎手場所トップ3完走率\": \"float\",\n",
    "    \"騎手距離レース数\": \"float\",\n",
    "    \"騎手距離1位完走\": \"float\",\n",
    "    \"騎手距離トップ3完走\": \"float\",\n",
    "    \"騎手距離1位完走率\": \"float\",\n",
    "    \"騎手距離トップ3完走率\": \"float\",\n",
    "    \"調教師レース数\": \"float\",\n",
    "    \"調教師1位完走\": \"float\",\n",
    "    \"調教師トップ3完走\": \"float\",\n",
    "    \"調教師1位完走率\": \"float\",\n",
    "    \"調教師トップ3完走率\": \"float\",\n",
    "    \"調教師場所レース数\": \"float\",\n",
    "    \"調教師場所1位完走\": \"float\",\n",
    "    \"調教師場所トップ3完走\": \"float\",\n",
    "    \"調教師場所1位完走率\": \"float\",\n",
    "    \"調教師場所トップ3完走率\": \"float\",\n",
    "    \"過去3走順位平方和\": \"float\",\n",
    "    \"過去5走勝率\": \"float\",\n",
    "    \"過去5走トップ3完走率\": \"float\",\n",
    "    \"騎手過去5走勝率\": \"float\",\n",
    "    \"騎手過去5走トップ3完走率\": \"float\",\n",
    "}\n",
    "\n",
    "numeric_features = [\n",
    "    field for field, dtype in feature_dtypes.items() if dtype in [\"float\"]\n",
    "]\n",
    "\n",
    "categorical_features_ordinal = [\n",
    "]\n",
    "\n",
    "categorical_features_onehot = [\n",
    "    field for field, dtype in feature_dtypes.items() if dtype in [\"category\"]\n",
    "]\n",
    "\n",
    "label = \"複勝的中\""
   ]
  },
  {
   "cell_type": "code",
   "execution_count": 4,
   "metadata": {},
   "outputs": [
    {
     "name": "stderr",
     "output_type": "stream",
     "text": [
      "23/12/28 15:05:36 WARN SparkStringUtils: Truncated the string representation of a plan since it was too large. This behavior can be adjusted by setting 'spark.sql.debug.maxToStringFields'.\n",
      "                                                                                \r"
     ]
    }
   ],
   "source": [
    "import lightgbm as lgb\n",
    "from sklearn.model_selection import train_test_split\n",
    "from sklearn.compose import ColumnTransformer\n",
    "from sklearn.pipeline import Pipeline\n",
    "from sklearn.preprocessing import StandardScaler, OneHotEncoder\n",
    "\n",
    "# Load a sample dataset\n",
    "data = df.toPandas().astype(feature_dtypes)\n",
    "X = data[numeric_features + categorical_features]\n",
    "y = data[label]\n",
    "\n",
    "X_train, X_test, y_train, y_test = train_test_split(\n",
    "    X, y, test_size=0.2, random_state=42\n",
    ")"
   ]
  },
  {
   "cell_type": "markdown",
   "metadata": {},
   "source": [
    "# Define objective function"
   ]
  },
  {
   "cell_type": "code",
   "execution_count": 5,
   "metadata": {},
   "outputs": [],
   "source": [
    "from hyperopt import hp, STATUS_OK\n",
    "from sklearn.metrics import accuracy_score\n",
    "\n",
    "def objective(params):\n",
    "    numeric_transformer = Pipeline(steps=[(\"scaler\", StandardScaler())])\n",
    "    categorical_transformer = Pipeline(steps=[(\"onehot\", OneHotEncoder())])\n",
    "    preprocessor = ColumnTransformer(\n",
    "        transformers=[\n",
    "            (\"num\", numeric_transformer, numeric_features),\n",
    "            (\"cat\", categorical_transformer, categorical_features),\n",
    "        ]\n",
    "    )\n",
    "    clf = Pipeline(steps=[(\"preprocessor\", preprocessor), (\"classifier\", lgb.LGBMClassifier(**params))])\n",
    "    clf.fit(X_train, y_train)\n",
    "    pred = clf.predict(X_test)\n",
    "    accuracy = accuracy_score(y_test, pred)\n",
    "    # We aim to maximize accuracy, hence negative sign\n",
    "    return {'loss': -accuracy, 'status': STATUS_OK}\n"
   ]
  },
  {
   "cell_type": "markdown",
   "metadata": {},
   "source": [
    "# Define hyperparameter space"
   ]
  },
  {
   "cell_type": "code",
   "execution_count": 6,
   "metadata": {},
   "outputs": [],
   "source": [
    "from hyperopt import hp\n",
    "\n",
    "# Define the hyperparameter space\n",
    "space = {\n",
    "    'boosting_type': hp.choice('boosting_type', ['gbdt', 'dart', 'goss']),  # Gradient Boosting Decision Tree, Dropouts meet Multiple Additive Regression Trees, Gradient-based One-Side Sampling\n",
    "    'num_leaves': hp.choice('num_leaves', range(20, 151)),  # Number of leaves in one tree\n",
    "    'learning_rate': hp.uniform('learning_rate', 0.01, 0.2),  # Learning rate or shrinkage rate\n",
    "    'n_estimators': hp.choice('n_estimators', range(100, 1001)),  # Number of boosted trees to fit\n",
    "    'max_depth': hp.choice('max_depth', range(5, 31)),  # Maximum tree depth\n",
    "    'min_child_weight': hp.uniform('min_child_weight', 0.1, 10),  # Minimum sum of instance weight (hessian) needed in a child (leaf)\n",
    "    'subsample': hp.uniform('subsample', 0.5, 1),  # Subsample ratio of the training instance\n",
    "    'colsample_bytree': hp.uniform('colsample_bytree', 0.5, 1),  # Subsample ratio of columns when constructing each tree\n",
    "    'reg_alpha': hp.uniform('reg_alpha', 0.0, 1.0),  # L1 regularization term on weights\n",
    "    'reg_lambda': hp.uniform('reg_lambda', 0.0, 1.0),  # L2 regularization term on weights\n",
    "    \"verbose\": -1,\n",
    "    \"seed\": 80\n",
    "}\n",
    "\n",
    "\n",
    "# space = {\n",
    "#     \"metric\": \"binary_error\",\n",
    "#     # \"metric\": \"multi_error\",\n",
    "#     \"boosting\": \"gbdt\",\n",
    "#     \"min_data_in_leaf\": 99,\n",
    "#     \"n_estimators\": 300,\n",
    "#     \"objective\": \"binary\",\n",
    "#     # \"objective\": \"multiclass\",\n",
    "#     # \"num_class\": 14,\n",
    "#     \"seed\": 80,\n",
    "#     \"learning_rate\": 0.03,  # hp.choice('learning_rate', [0.05, .1, .3]),\n",
    "#     \"max_depth\": hp.choice(\"max_depth\", range(6, 25)),\n",
    "#     \"num_leaves\": hp.choice(\"num_leaves\", range(20, 100, 10)),\n",
    "#     \"subsample\": hp.uniform(\"subsample\", 0.5, 1),\n",
    "#     \"feature_fraction\": hp.uniform(\"feature_fraction\", 0.5, 1),  # colsample_bytree\n",
    "#     \"reg_alpha\": hp.uniform(\"reg_alpha\", 0, 1),\n",
    "#     \"reg_lambda\": hp.uniform(\"reg_lambda\", 0, 1),\n",
    "#     \"min_child_samples\": hp.choice(\n",
    "#         \"min_child_samples\", range(10, 100, 10)\n",
    "#     ),\n",
    "#     \"verbose\": -1,\n",
    "# }"
   ]
  },
  {
   "cell_type": "markdown",
   "metadata": {},
   "source": [
    "# Run optimization"
   ]
  },
  {
   "cell_type": "code",
   "execution_count": 11,
   "metadata": {},
   "outputs": [],
   "source": [
    "spark.stop()"
   ]
  },
  {
   "cell_type": "code",
   "execution_count": 12,
   "metadata": {},
   "outputs": [
    {
     "name": "stdout",
     "output_type": "stream",
     "text": [
      "  0%|          | 0/100 [00:00<?, ?trial/s, best loss=?]"
     ]
    },
    {
     "name": "stderr",
     "output_type": "stream",
     "text": [
      "                                                                                \r"
     ]
    },
    {
     "name": "stdout",
     "output_type": "stream",
     "text": [
      "  1%|          | 1/100 [01:35<2:37:40, 95.56s/trial, best loss: -0.9599567232624758]"
     ]
    },
    {
     "name": "stderr",
     "output_type": "stream",
     "text": [
      "                                                                                \r"
     ]
    },
    {
     "name": "stdout",
     "output_type": "stream",
     "text": [
      "  2%|▏         | 2/100 [01:55<1:23:36, 51.19s/trial, best loss: -0.9611943723848515]"
     ]
    },
    {
     "name": "stderr",
     "output_type": "stream",
     "text": [
      "[Stage 2:>    (0 + 1) / 1][Stage 4:>    (0 + 1) / 1][Stage 5:>    (0 + 1) / 1]  \r"
     ]
    },
    {
     "name": "stdout",
     "output_type": "stream",
     "text": [
      "  3%|▎         | 3/100 [02:24<1:06:28, 41.12s/trial, best loss: -0.9611943723848515]"
     ]
    },
    {
     "name": "stderr",
     "output_type": "stream",
     "text": [
      "[Stage 2:>    (0 + 1) / 1][Stage 4:>    (0 + 1) / 1][Stage 6:>    (0 + 1) / 1]  \r"
     ]
    },
    {
     "name": "stdout",
     "output_type": "stream",
     "text": [
      "  4%|▍         | 4/100 [03:14<1:10:55, 44.33s/trial, best loss: -0.9611943723848515]"
     ]
    },
    {
     "name": "stderr",
     "output_type": "stream",
     "text": [
      "                                                                                \r"
     ]
    },
    {
     "name": "stdout",
     "output_type": "stream",
     "text": [
      "  5%|▌         | 5/100 [03:26<51:46, 32.70s/trial, best loss: -0.9611943723848515]  "
     ]
    },
    {
     "name": "stderr",
     "output_type": "stream",
     "text": [
      "                                                                                \r"
     ]
    },
    {
     "name": "stdout",
     "output_type": "stream",
     "text": [
      "  6%|▌         | 6/100 [04:15<1:00:01, 38.32s/trial, best loss: -0.9611943723848515]"
     ]
    },
    {
     "name": "stderr",
     "output_type": "stream",
     "text": [
      "[Stage 4:>    (0 + 1) / 1][Stage 6:>    (0 + 1) / 1][Stage 8:>    (0 + 1) / 1]  \r"
     ]
    },
    {
     "name": "stdout",
     "output_type": "stream",
     "text": [
      "  7%|▋         | 7/100 [04:32<48:38, 31.38s/trial, best loss: -0.9611943723848515]  "
     ]
    },
    {
     "name": "stderr",
     "output_type": "stream",
     "text": [
      "                                                                                \r"
     ]
    },
    {
     "name": "stdout",
     "output_type": "stream",
     "text": [
      "  8%|▊         | 8/100 [05:20<56:20, 36.74s/trial, best loss: -0.9611943723848515]"
     ]
    },
    {
     "name": "stderr",
     "output_type": "stream",
     "text": [
      "                                                                                \r"
     ]
    },
    {
     "name": "stdout",
     "output_type": "stream",
     "text": [
      "  9%|▉         | 9/100 [06:03<58:47, 38.76s/trial, best loss: -0.9611943723848515]"
     ]
    },
    {
     "name": "stderr",
     "output_type": "stream",
     "text": [
      "                                                                                \r"
     ]
    },
    {
     "name": "stdout",
     "output_type": "stream",
     "text": [
      " 10%|█         | 10/100 [07:32<1:21:06, 54.07s/trial, best loss: -0.9611943723848515]"
     ]
    },
    {
     "name": "stderr",
     "output_type": "stream",
     "text": [
      "                                                                                \r"
     ]
    },
    {
     "name": "stdout",
     "output_type": "stream",
     "text": [
      " 11%|█         | 11/100 [07:39<58:54, 39.71s/trial, best loss: -0.9611943723848515]  "
     ]
    },
    {
     "name": "stderr",
     "output_type": "stream",
     "text": [
      "[Stage 10:>   (0 + 1) / 1][Stage 12:>   (0 + 1) / 1][Stage 13:>   (0 + 1) / 1]\r"
     ]
    },
    {
     "name": "stdout",
     "output_type": "stream",
     "text": [
      " 12%|█▏        | 12/100 [08:52<1:13:14, 49.93s/trial, best loss: -0.9611943723848515]"
     ]
    },
    {
     "name": "stderr",
     "output_type": "stream",
     "text": [
      "                                                                                \r"
     ]
    },
    {
     "name": "stdout",
     "output_type": "stream",
     "text": [
      " 13%|█▎        | 13/100 [09:51<1:16:04, 52.47s/trial, best loss: -0.9611943723848515]"
     ]
    },
    {
     "name": "stderr",
     "output_type": "stream",
     "text": [
      "[Stage 10:>   (0 + 1) / 1][Stage 12:>   (0 + 1) / 1][Stage 14:>   (0 + 1) / 1]  \r"
     ]
    },
    {
     "name": "stdout",
     "output_type": "stream",
     "text": [
      " 14%|█▍        | 14/100 [10:55<1:20:20, 56.05s/trial, best loss: -0.9611943723848515]"
     ]
    },
    {
     "name": "stderr",
     "output_type": "stream",
     "text": [
      "[Stage 10:>   (0 + 1) / 1][Stage 12:>   (0 + 1) / 1][Stage 14:>   (0 + 1) / 1]  \r"
     ]
    },
    {
     "name": "stdout",
     "output_type": "stream",
     "text": [
      " 15%|█▌        | 15/100 [11:33<1:11:47, 50.68s/trial, best loss: -0.9611943723848515]"
     ]
    },
    {
     "name": "stderr",
     "output_type": "stream",
     "text": [
      "                                                                                \r"
     ]
    },
    {
     "name": "stdout",
     "output_type": "stream",
     "text": [
      " 16%|█▌        | 16/100 [14:04<1:53:13, 80.87s/trial, best loss: -0.9612763359028896]"
     ]
    },
    {
     "name": "stderr",
     "output_type": "stream",
     "text": [
      "[Stage 10:>   (0 + 1) / 1][Stage 12:>   (0 + 1) / 1][Stage 14:>   (0 + 1) / 1]\r"
     ]
    },
    {
     "name": "stdout",
     "output_type": "stream",
     "text": [
      " 17%|█▋        | 17/100 [16:07<2:09:14, 93.43s/trial, best loss: -0.9612763359028896]"
     ]
    },
    {
     "name": "stderr",
     "output_type": "stream",
     "text": [
      "                                                                                \r"
     ]
    },
    {
     "name": "stdout",
     "output_type": "stream",
     "text": [
      " 18%|█▊        | 18/100 [16:29<1:38:25, 72.01s/trial, best loss: -0.9612763359028896]"
     ]
    },
    {
     "name": "stderr",
     "output_type": "stream",
     "text": [
      "[Stage 10:>   (0 + 1) / 1][Stage 12:>   (0 + 1) / 1][Stage 14:>   (0 + 1) / 1]  \r"
     ]
    },
    {
     "name": "stdout",
     "output_type": "stream",
     "text": [
      " 19%|█▉        | 19/100 [18:16<1:51:35, 82.66s/trial, best loss: -0.9612763359028896]"
     ]
    },
    {
     "name": "stderr",
     "output_type": "stream",
     "text": [
      "[Stage 10:>   (0 + 1) / 1][Stage 12:>   (0 + 1) / 1][Stage 14:>   (0 + 1) / 1]  \r"
     ]
    },
    {
     "name": "stdout",
     "output_type": "stream",
     "text": [
      " 20%|██        | 20/100 [18:51<1:30:48, 68.11s/trial, best loss: -0.9612763359028896]"
     ]
    },
    {
     "name": "stderr",
     "output_type": "stream",
     "text": [
      "[Stage 10:>   (0 + 1) / 1][Stage 12:>   (0 + 1) / 1][Stage 14:>   (0 + 1) / 1]\r"
     ]
    },
    {
     "name": "stdout",
     "output_type": "stream",
     "text": [
      " 21%|██        | 21/100 [20:34<1:43:38, 78.71s/trial, best loss: -0.9613501030691239]"
     ]
    },
    {
     "name": "stderr",
     "output_type": "stream",
     "text": [
      "[Stage 10:>   (0 + 1) / 1][Stage 12:>   (0 + 1) / 1][Stage 14:>   (0 + 1) / 1]  \r"
     ]
    },
    {
     "name": "stdout",
     "output_type": "stream",
     "text": [
      " 22%|██▏       | 22/100 [21:21<1:30:02, 69.26s/trial, best loss: -0.9613501030691239]"
     ]
    },
    {
     "name": "stderr",
     "output_type": "stream",
     "text": [
      "                                                                                \r"
     ]
    },
    {
     "name": "stdout",
     "output_type": "stream",
     "text": [
      " 23%|██▎       | 23/100 [22:41<1:33:08, 72.58s/trial, best loss: -0.9613501030691239]"
     ]
    },
    {
     "name": "stderr",
     "output_type": "stream",
     "text": [
      "                                                                                \r"
     ]
    },
    {
     "name": "stdout",
     "output_type": "stream",
     "text": [
      " 24%|██▍       | 24/100 [22:58<1:10:28, 55.64s/trial, best loss: -0.9613501030691239]"
     ]
    },
    {
     "name": "stderr",
     "output_type": "stream",
     "text": [
      "                                                                                \r"
     ]
    },
    {
     "name": "stdout",
     "output_type": "stream",
     "text": [
      " 25%|██▌       | 25/100 [24:06<1:14:17, 59.44s/trial, best loss: -0.9613501030691239]"
     ]
    },
    {
     "name": "stderr",
     "output_type": "stream",
     "text": [
      "[Stage 10:>   (0 + 1) / 1][Stage 12:>   (0 + 1) / 1][Stage 14:>   (0 + 1) / 1]  \r"
     ]
    },
    {
     "name": "stdout",
     "output_type": "stream",
     "text": [
      " 26%|██▌       | 26/100 [26:57<1:54:28, 92.82s/trial, best loss: -0.9613501030691239]"
     ]
    },
    {
     "name": "stderr",
     "output_type": "stream",
     "text": [
      "                                                                                \r"
     ]
    },
    {
     "name": "stdout",
     "output_type": "stream",
     "text": [
      " 27%|██▋       | 27/100 [27:30<1:31:09, 74.92s/trial, best loss: -0.9613501030691239]"
     ]
    },
    {
     "name": "stderr",
     "output_type": "stream",
     "text": [
      "                                                                                \r"
     ]
    },
    {
     "name": "stdout",
     "output_type": "stream",
     "text": [
      " 28%|██▊       | 28/100 [27:59<1:13:25, 61.19s/trial, best loss: -0.9613501030691239]"
     ]
    },
    {
     "name": "stderr",
     "output_type": "stream",
     "text": [
      "[Stage 10:>   (0 + 1) / 1][Stage 12:>   (0 + 1) / 1][Stage 14:>   (0 + 1) / 1]  \r"
     ]
    },
    {
     "name": "stdout",
     "output_type": "stream",
     "text": [
      " 29%|██▉       | 29/100 [29:13<1:17:04, 65.13s/trial, best loss: -0.9613501030691239]"
     ]
    },
    {
     "name": "stderr",
     "output_type": "stream",
     "text": [
      "                                                                                \r"
     ]
    },
    {
     "name": "stdout",
     "output_type": "stream",
     "text": [
      " 30%|███       | 30/100 [30:18<1:15:43, 64.90s/trial, best loss: -0.9613501030691239]"
     ]
    },
    {
     "name": "stderr",
     "output_type": "stream",
     "text": [
      "                                                                                \r"
     ]
    },
    {
     "name": "stdout",
     "output_type": "stream",
     "text": [
      " 31%|███       | 31/100 [31:19<1:13:23, 63.82s/trial, best loss: -0.9613501030691239]"
     ]
    },
    {
     "name": "stderr",
     "output_type": "stream",
     "text": [
      "[Stage 10:>   (0 + 1) / 1][Stage 12:>   (0 + 1) / 1][Stage 14:>   (0 + 1) / 1]  \r"
     ]
    },
    {
     "name": "stdout",
     "output_type": "stream",
     "text": [
      " 32%|███▏      | 32/100 [31:37<56:48, 50.13s/trial, best loss: -0.9613501030691239]  "
     ]
    },
    {
     "name": "stderr",
     "output_type": "stream",
     "text": [
      "[Stage 10:>   (0 + 1) / 1][Stage 12:>   (0 + 1) / 1][Stage 14:>   (0 + 1) / 1]  \r"
     ]
    },
    {
     "name": "stdout",
     "output_type": "stream",
     "text": [
      " 33%|███▎      | 33/100 [33:52<1:24:16, 75.48s/trial, best loss: -0.9613501030691239]"
     ]
    },
    {
     "name": "stderr",
     "output_type": "stream",
     "text": [
      "                                                                                \r"
     ]
    },
    {
     "name": "stdout",
     "output_type": "stream",
     "text": [
      " 34%|███▍      | 34/100 [33:54<58:48, 53.47s/trial, best loss: -0.961391084828143]   "
     ]
    },
    {
     "name": "stderr",
     "output_type": "stream",
     "text": [
      "                                                                                \r"
     ]
    },
    {
     "name": "stdout",
     "output_type": "stream",
     "text": [
      " 35%|███▌      | 35/100 [34:16<47:40, 44.01s/trial, best loss: -0.961391084828143]"
     ]
    },
    {
     "name": "stderr",
     "output_type": "stream",
     "text": [
      "                                                                                \r"
     ]
    },
    {
     "name": "stdout",
     "output_type": "stream",
     "text": [
      " 36%|███▌      | 36/100 [35:12<50:53, 47.71s/trial, best loss: -0.9614320665871621]"
     ]
    },
    {
     "name": "stderr",
     "output_type": "stream",
     "text": [
      "                                                                                \r"
     ]
    },
    {
     "name": "stdout",
     "output_type": "stream",
     "text": [
      " 37%|███▋      | 37/100 [36:05<51:51, 49.40s/trial, best loss: -0.9614320665871621]"
     ]
    },
    {
     "name": "stderr",
     "output_type": "stream",
     "text": [
      "                                                                                \r"
     ]
    },
    {
     "name": "stdout",
     "output_type": "stream",
     "text": [
      " 38%|███▊      | 38/100 [36:09<36:40, 35.50s/trial, best loss: -0.9614320665871621]"
     ]
    },
    {
     "name": "stderr",
     "output_type": "stream",
     "text": [
      "                                                                                \r"
     ]
    },
    {
     "name": "stdout",
     "output_type": "stream",
     "text": [
      " 39%|███▉      | 39/100 [39:19<1:23:26, 82.08s/trial, best loss: -0.9614320665871621]"
     ]
    },
    {
     "name": "stderr",
     "output_type": "stream",
     "text": [
      "                                                                                \r"
     ]
    },
    {
     "name": "stdout",
     "output_type": "stream",
     "text": [
      " 40%|████      | 40/100 [40:57<1:26:42, 86.70s/trial, best loss: -0.9614320665871621]"
     ]
    },
    {
     "name": "stderr",
     "output_type": "stream",
     "text": [
      "[Stage 39:>   (0 + 1) / 1][Stage 42:>   (0 + 1) / 1][Stage 43:>   (0 + 1) / 1]  \r"
     ]
    },
    {
     "name": "stdout",
     "output_type": "stream",
     "text": [
      " 41%|████      | 41/100 [54:35<5:00:58, 306.08s/trial, best loss: -0.9614320665871621]"
     ]
    },
    {
     "name": "stderr",
     "output_type": "stream",
     "text": [
      "[Stage 39:>   (0 + 1) / 1][Stage 43:>   (0 + 1) / 1][Stage 44:>   (0 + 1) / 1]  \r"
     ]
    },
    {
     "name": "stdout",
     "output_type": "stream",
     "text": [
      " 43%|████▎     | 43/100 [58:53<3:17:09, 207.53s/trial, best loss: -0.9614648519943773]"
     ]
    },
    {
     "name": "stderr",
     "output_type": "stream",
     "text": [
      "                                                                                \r"
     ]
    },
    {
     "name": "stdout",
     "output_type": "stream",
     "text": [
      " 44%|████▍     | 44/100 [1:04:56<3:57:21, 254.30s/trial, best loss: -0.9614648519943773]"
     ]
    },
    {
     "name": "stderr",
     "output_type": "stream",
     "text": [
      "                                                                                \r"
     ]
    },
    {
     "name": "stdout",
     "output_type": "stream",
     "text": [
      " 45%|████▌     | 45/100 [1:19:15<6:39:12, 435.51s/trial, best loss: -0.9617271352520993]"
     ]
    },
    {
     "name": "stderr",
     "output_type": "stream",
     "text": [
      "                                                                                \r"
     ]
    },
    {
     "name": "stdout",
     "output_type": "stream",
     "text": [
      " 46%|████▌     | 46/100 [1:25:36<6:17:25, 419.35s/trial, best loss: -0.9617271352520993]"
     ]
    },
    {
     "name": "stderr",
     "output_type": "stream",
     "text": [
      "                                                                                \r"
     ]
    },
    {
     "name": "stdout",
     "output_type": "stream",
     "text": [
      " 47%|████▋     | 47/100 [1:26:48<4:38:12, 314.95s/trial, best loss: -0.9617271352520993]"
     ]
    },
    {
     "name": "stderr",
     "output_type": "stream",
     "text": [
      "                                                                                \r"
     ]
    },
    {
     "name": "stdout",
     "output_type": "stream",
     "text": [
      " 48%|████▊     | 48/100 [1:29:00<3:45:35, 260.30s/trial, best loss: -0.9617271352520993]"
     ]
    },
    {
     "name": "stderr",
     "output_type": "stream",
     "text": [
      "                                                                                \r"
     ]
    },
    {
     "name": "stdout",
     "output_type": "stream",
     "text": [
      " 49%|████▉     | 49/100 [1:30:28<2:57:09, 208.42s/trial, best loss: -0.9617271352520993]"
     ]
    },
    {
     "name": "stderr",
     "output_type": "stream",
     "text": [
      "[Stage 49:>   (0 + 1) / 1][Stage 50:>   (0 + 1) / 1][Stage 52:>   (0 + 1) / 1]  \r"
     ]
    },
    {
     "name": "stdout",
     "output_type": "stream",
     "text": [
      " 50%|█████     | 50/100 [1:31:31<2:17:24, 164.90s/trial, best loss: -0.9617271352520993]"
     ]
    },
    {
     "name": "stderr",
     "output_type": "stream",
     "text": [
      "[Stage 49:>   (0 + 1) / 1][Stage 50:>   (0 + 1) / 1][Stage 52:>   (0 + 1) / 1]  \r"
     ]
    },
    {
     "name": "stdout",
     "output_type": "stream",
     "text": [
      " 51%|█████     | 51/100 [1:34:33<2:18:49, 170.00s/trial, best loss: -0.9617271352520993]"
     ]
    },
    {
     "name": "stderr",
     "output_type": "stream",
     "text": [
      "[Stage 49:>   (0 + 1) / 1][Stage 50:>   (0 + 1) / 1][Stage 52:>   (0 + 1) / 1]\r"
     ]
    },
    {
     "name": "stdout",
     "output_type": "stream",
     "text": [
      " 52%|█████▏    | 52/100 [1:36:34<2:04:07, 155.16s/trial, best loss: -0.9617271352520993]"
     ]
    },
    {
     "name": "stderr",
     "output_type": "stream",
     "text": [
      "                                                                                \r"
     ]
    },
    {
     "name": "stdout",
     "output_type": "stream",
     "text": [
      " 53%|█████▎    | 53/100 [1:42:20<2:46:29, 212.54s/trial, best loss: -0.9617271352520993]"
     ]
    },
    {
     "name": "stderr",
     "output_type": "stream",
     "text": [
      "                                                                                \r"
     ]
    },
    {
     "name": "stdout",
     "output_type": "stream",
     "text": [
      " 54%|█████▍    | 54/100 [1:46:31<2:51:49, 224.12s/trial, best loss: -0.9617271352520993]"
     ]
    },
    {
     "name": "stderr",
     "output_type": "stream",
     "text": [
      "                                                                                \r"
     ]
    },
    {
     "name": "stdout",
     "output_type": "stream",
     "text": [
      " 55%|█████▌    | 55/100 [1:49:54<2:43:22, 217.84s/trial, best loss: -0.9617271352520993]"
     ]
    },
    {
     "name": "stderr",
     "output_type": "stream",
     "text": [
      "                                                                                \r"
     ]
    },
    {
     "name": "stdout",
     "output_type": "stream",
     "text": [
      " 56%|█████▌    | 56/100 [1:52:13<2:22:20, 194.09s/trial, best loss: -0.9617271352520993]"
     ]
    },
    {
     "name": "stderr",
     "output_type": "stream",
     "text": [
      "[Stage 52:>   (0 + 1) / 1][Stage 57:>   (0 + 1) / 1][Stage 58:>   (0 + 1) / 1]\r"
     ]
    },
    {
     "name": "stdout",
     "output_type": "stream",
     "text": [
      " 57%|█████▋    | 57/100 [1:53:15<1:50:46, 154.56s/trial, best loss: -0.9617271352520993]"
     ]
    },
    {
     "name": "stderr",
     "output_type": "stream",
     "text": [
      "                                                                                \r"
     ]
    },
    {
     "name": "stdout",
     "output_type": "stream",
     "text": [
      " 58%|█████▊    | 58/100 [1:56:16<1:53:38, 162.35s/trial, best loss: -0.9617271352520993]"
     ]
    },
    {
     "name": "stderr",
     "output_type": "stream",
     "text": [
      "[Stage 57:>   (0 + 1) / 1][Stage 60:>   (0 + 1) / 1][Stage 61:>   (0 + 1) / 1]  \r"
     ]
    },
    {
     "name": "stdout",
     "output_type": "stream",
     "text": [
      " 59%|█████▉    | 59/100 [1:57:08<1:28:24, 129.37s/trial, best loss: -0.9617271352520993]"
     ]
    },
    {
     "name": "stderr",
     "output_type": "stream",
     "text": [
      "                                                                                \r"
     ]
    },
    {
     "name": "stdout",
     "output_type": "stream",
     "text": [
      " 60%|██████    | 60/100 [1:57:45<1:07:38, 101.46s/trial, best loss: -0.9617271352520993]"
     ]
    },
    {
     "name": "stderr",
     "output_type": "stream",
     "text": [
      "                                                                                \r"
     ]
    },
    {
     "name": "stdout",
     "output_type": "stream",
     "text": [
      " 61%|██████    | 61/100 [1:58:38<56:35, 87.06s/trial, best loss: -0.9617271352520993]   "
     ]
    },
    {
     "name": "stderr",
     "output_type": "stream",
     "text": [
      "                                                                                \r"
     ]
    },
    {
     "name": "stdout",
     "output_type": "stream",
     "text": [
      " 62%|██████▏   | 62/100 [1:59:32<48:56, 77.28s/trial, best loss: -0.9617271352520993]"
     ]
    },
    {
     "name": "stderr",
     "output_type": "stream",
     "text": [
      "[Stage 57:>   (0 + 1) / 1][Stage 60:>   (0 + 1) / 1][Stage 65:>   (0 + 1) / 1]  \r"
     ]
    },
    {
     "name": "stdout",
     "output_type": "stream",
     "text": [
      " 63%|██████▎   | 63/100 [2:01:02<49:57, 81.01s/trial, best loss: -0.9617271352520993]"
     ]
    },
    {
     "name": "stderr",
     "output_type": "stream",
     "text": [
      "                                                                                \r"
     ]
    },
    {
     "name": "stdout",
     "output_type": "stream",
     "text": [
      " 64%|██████▍   | 64/100 [2:01:13<36:01, 60.06s/trial, best loss: -0.9617271352520993]"
     ]
    },
    {
     "name": "stderr",
     "output_type": "stream",
     "text": [
      "[Stage 60:>   (0 + 1) / 1][Stage 65:>   (0 + 1) / 1][Stage 66:>   (0 + 1) / 1]\r"
     ]
    },
    {
     "name": "stdout",
     "output_type": "stream",
     "text": [
      " 65%|██████▌   | 65/100 [2:05:27<1:08:58, 118.25s/trial, best loss: -0.9617271352520993]"
     ]
    },
    {
     "name": "stderr",
     "output_type": "stream",
     "text": [
      "                                                                                \r"
     ]
    },
    {
     "name": "stdout",
     "output_type": "stream",
     "text": [
      " 66%|██████▌   | 66/100 [2:05:44<49:40, 87.66s/trial, best loss: -0.9617271352520993]   "
     ]
    },
    {
     "name": "stderr",
     "output_type": "stream",
     "text": [
      "                                                                                \r"
     ]
    },
    {
     "name": "stdout",
     "output_type": "stream",
     "text": [
      " 67%|██████▋   | 67/100 [2:06:24<40:24, 73.47s/trial, best loss: -0.9617271352520993]"
     ]
    },
    {
     "name": "stderr",
     "output_type": "stream",
     "text": [
      "                                                                                \r"
     ]
    },
    {
     "name": "stdout",
     "output_type": "stream",
     "text": [
      " 68%|██████▊   | 68/100 [2:08:00<42:46, 80.20s/trial, best loss: -0.9617271352520993]"
     ]
    },
    {
     "name": "stderr",
     "output_type": "stream",
     "text": [
      "                                                                                \r"
     ]
    },
    {
     "name": "stdout",
     "output_type": "stream",
     "text": [
      " 69%|██████▉   | 69/100 [2:16:02<1:43:40, 200.67s/trial, best loss: -0.9617271352520993]"
     ]
    },
    {
     "name": "stderr",
     "output_type": "stream",
     "text": [
      "[Stage 66:>   (0 + 1) / 1][Stage 68:>   (0 + 1) / 1][Stage 71:>   (0 + 1) / 1]  \r"
     ]
    },
    {
     "name": "stdout",
     "output_type": "stream",
     "text": [
      " 70%|███████   | 70/100 [2:19:39<1:42:53, 205.79s/trial, best loss: -0.9617271352520993]"
     ]
    },
    {
     "name": "stderr",
     "output_type": "stream",
     "text": [
      "                                                                                \r"
     ]
    },
    {
     "name": "stdout",
     "output_type": "stream",
     "text": [
      " 71%|███████   | 71/100 [2:31:02<2:48:32, 348.70s/trial, best loss: -0.9617271352520993]"
     ]
    },
    {
     "name": "stderr",
     "output_type": "stream",
     "text": [
      "                                                                                \r"
     ]
    },
    {
     "name": "stdout",
     "output_type": "stream",
     "text": [
      " 72%|███████▏  | 72/100 [2:32:49<2:09:00, 276.44s/trial, best loss: -0.9617271352520993]"
     ]
    },
    {
     "name": "stderr",
     "output_type": "stream",
     "text": [
      "[Stage 71:>   (0 + 1) / 1][Stage 72:>   (0 + 1) / 1][Stage 74:>   (0 + 1) / 1]\r"
     ]
    },
    {
     "name": "stdout",
     "output_type": "stream",
     "text": [
      " 73%|███████▎  | 73/100 [2:34:56<1:44:06, 231.35s/trial, best loss: -0.9617271352520993]"
     ]
    },
    {
     "name": "stderr",
     "output_type": "stream",
     "text": [
      "                                                                                \r"
     ]
    },
    {
     "name": "stdout",
     "output_type": "stream",
     "text": [
      " 74%|███████▍  | 74/100 [2:37:43<1:31:55, 212.14s/trial, best loss: -0.9617271352520993]"
     ]
    },
    {
     "name": "stderr",
     "output_type": "stream",
     "text": [
      "                                                                                \r"
     ]
    },
    {
     "name": "stdout",
     "output_type": "stream",
     "text": [
      " 75%|███████▌  | 75/100 [2:39:39<1:16:26, 183.47s/trial, best loss: -0.9617271352520993]"
     ]
    },
    {
     "name": "stderr",
     "output_type": "stream",
     "text": [
      "                                                                                \r"
     ]
    },
    {
     "name": "stdout",
     "output_type": "stream",
     "text": [
      " 76%|███████▌  | 76/100 [2:40:22<56:27, 141.15s/trial, best loss: -0.9618009024183336]  "
     ]
    },
    {
     "name": "stderr",
     "output_type": "stream",
     "text": [
      "                                                                                \r"
     ]
    },
    {
     "name": "stdout",
     "output_type": "stream",
     "text": [
      " 77%|███████▋  | 77/100 [2:41:09<43:19, 113.03s/trial, best loss: -0.9618009024183336]"
     ]
    },
    {
     "name": "stderr",
     "output_type": "stream",
     "text": [
      "                                                                                \r"
     ]
    },
    {
     "name": "stdout",
     "output_type": "stream",
     "text": [
      " 79%|███████▉  | 79/100 [2:43:51<34:19, 98.08s/trial, best loss: -0.9618009024183336] "
     ]
    },
    {
     "name": "stderr",
     "output_type": "stream",
     "text": [
      "[Stage 75:>   (0 + 1) / 1][Stage 78:>   (0 + 1) / 1][Stage 81:>   (0 + 1) / 1]\r"
     ]
    },
    {
     "name": "stdout",
     "output_type": "stream",
     "text": [
      " 80%|████████  | 80/100 [2:45:56<34:55, 104.79s/trial, best loss: -0.9618009024183336]"
     ]
    },
    {
     "name": "stderr",
     "output_type": "stream",
     "text": [
      "[Stage 78:>   (0 + 1) / 1][Stage 81:>   (0 + 1) / 1][Stage 82:>   (0 + 1) / 1]  \r"
     ]
    },
    {
     "name": "stdout",
     "output_type": "stream",
     "text": [
      " 81%|████████  | 81/100 [2:48:45<38:33, 121.79s/trial, best loss: -0.9618009024183336]"
     ]
    },
    {
     "name": "stderr",
     "output_type": "stream",
     "text": [
      "                                                                                \r"
     ]
    },
    {
     "name": "stdout",
     "output_type": "stream",
     "text": [
      " 82%|████████▏ | 82/100 [2:49:22<29:33, 98.51s/trial, best loss: -0.9618009024183336] "
     ]
    },
    {
     "name": "stderr",
     "output_type": "stream",
     "text": [
      "[Stage 81:>   (0 + 1) / 1][Stage 84:>   (0 + 1) / 1][Stage 85:>   (0 + 1) / 1]  \r"
     ]
    },
    {
     "name": "stdout",
     "output_type": "stream",
     "text": [
      " 84%|████████▍ | 84/100 [2:50:37<17:35, 65.94s/trial, best loss: -0.9618009024183336]"
     ]
    },
    {
     "name": "stderr",
     "output_type": "stream",
     "text": [
      "[Stage 81:>   (0 + 1) / 1][Stage 85:>   (0 + 1) / 1][Stage 86:>   (0 + 1) / 1]  \r"
     ]
    },
    {
     "name": "stdout",
     "output_type": "stream",
     "text": [
      " 85%|████████▌ | 85/100 [2:52:44<20:52, 83.49s/trial, best loss: -0.9618009024183336]"
     ]
    },
    {
     "name": "stderr",
     "output_type": "stream",
     "text": [
      "[Stage 81:>   (0 + 1) / 1][Stage 85:>   (0 + 1) / 1][Stage 86:>   (0 + 1) / 1]  \r"
     ]
    },
    {
     "name": "stdout",
     "output_type": "stream",
     "text": [
      " 86%|████████▌ | 86/100 [2:53:09<15:29, 66.40s/trial, best loss: -0.9618009024183336]"
     ]
    },
    {
     "name": "stderr",
     "output_type": "stream",
     "text": [
      "                                                                                \r"
     ]
    },
    {
     "name": "stdout",
     "output_type": "stream",
     "text": [
      " 87%|████████▋ | 87/100 [2:56:54<24:33, 113.31s/trial, best loss: -0.9618009024183336]"
     ]
    },
    {
     "name": "stderr",
     "output_type": "stream",
     "text": [
      "[Stage 81:>   (0 + 1) / 1][Stage 85:>   (0 + 1) / 1][Stage 89:>   (0 + 1) / 1]\r"
     ]
    },
    {
     "name": "stdout",
     "output_type": "stream",
     "text": [
      " 88%|████████▊ | 88/100 [2:58:36<21:58, 109.91s/trial, best loss: -0.9618009024183336]"
     ]
    },
    {
     "name": "stderr",
     "output_type": "stream",
     "text": [
      "                                                                                \r"
     ]
    },
    {
     "name": "stdout",
     "output_type": "stream",
     "text": [
      " 89%|████████▉ | 89/100 [3:01:23<23:13, 126.72s/trial, best loss: -0.9618009024183336]"
     ]
    },
    {
     "name": "stderr",
     "output_type": "stream",
     "text": [
      "[Stage 81:>   (0 + 1) / 1][Stage 89:>   (0 + 1) / 1][Stage 90:>   (0 + 1) / 1]\r"
     ]
    },
    {
     "name": "stdout",
     "output_type": "stream",
     "text": [
      " 90%|█████████ | 90/100 [3:09:12<38:09, 228.98s/trial, best loss: -0.9618009024183336]"
     ]
    },
    {
     "name": "stderr",
     "output_type": "stream",
     "text": [
      "                                                                                \r"
     ]
    },
    {
     "name": "stdout",
     "output_type": "stream",
     "text": [
      " 91%|█████████ | 91/100 [3:11:33<30:24, 202.74s/trial, best loss: -0.9618009024183336]"
     ]
    },
    {
     "name": "stderr",
     "output_type": "stream",
     "text": [
      "[Stage 90:>   (0 + 1) / 1][Stage 92:>   (0 + 1) / 1][Stage 93:>   (0 + 1) / 1]  \r"
     ]
    },
    {
     "name": "stdout",
     "output_type": "stream",
     "text": [
      " 92%|█████████▏| 92/100 [3:13:08<22:43, 170.44s/trial, best loss: -0.9618009024183336]"
     ]
    },
    {
     "name": "stderr",
     "output_type": "stream",
     "text": [
      "                                                                                \r"
     ]
    },
    {
     "name": "stdout",
     "output_type": "stream",
     "text": [
      " 93%|█████████▎| 93/100 [3:15:30<18:53, 161.95s/trial, best loss: -0.9618009024183336]"
     ]
    },
    {
     "name": "stderr",
     "output_type": "stream",
     "text": [
      "                                                                                \r"
     ]
    },
    {
     "name": "stdout",
     "output_type": "stream",
     "text": [
      " 94%|█████████▍| 94/100 [3:18:25<16:35, 165.97s/trial, best loss: -0.9618009024183336]"
     ]
    },
    {
     "name": "stderr",
     "output_type": "stream",
     "text": [
      "[Stage 90:>   (0 + 1) / 1][Stage 96:>   (0 + 1) / 1][Stage 97:>   (0 + 1) / 1]  \r"
     ]
    },
    {
     "name": "stdout",
     "output_type": "stream",
     "text": [
      " 95%|█████████▌| 95/100 [3:18:56<10:27, 125.43s/trial, best loss: -0.9618009024183336]"
     ]
    },
    {
     "name": "stderr",
     "output_type": "stream",
     "text": [
      "[Stage 90:>   (0 + 1) / 1][Stage 96:>   (0 + 1) / 1][Stage 98:>   (0 + 1) / 1]  \r"
     ]
    },
    {
     "name": "stdout",
     "output_type": "stream",
     "text": [
      " 96%|█████████▌| 96/100 [3:19:59<07:06, 106.55s/trial, best loss: -0.9618009024183336]"
     ]
    },
    {
     "name": "stderr",
     "output_type": "stream",
     "text": [
      "[Stage 90:>   (0 + 1) / 1][Stage 96:>   (0 + 1) / 1][Stage 98:>   (0 + 1) / 1]\r"
     ]
    },
    {
     "name": "stdout",
     "output_type": "stream",
     "text": [
      " 97%|█████████▋| 97/100 [3:25:11<08:24, 168.25s/trial, best loss: -0.9618009024183336]"
     ]
    },
    {
     "name": "stderr",
     "output_type": "stream",
     "text": [
      "[Stage 96:>                 (0 + 1) / 1][Stage 98:>                 (0 + 1) / 1]\r"
     ]
    },
    {
     "name": "stdout",
     "output_type": "stream",
     "text": [
      " 98%|█████████▊| 98/100 [3:25:47<04:17, 128.67s/trial, best loss: -0.9618009024183336]"
     ]
    },
    {
     "name": "stderr",
     "output_type": "stream",
     "text": [
      "                                                                                \r"
     ]
    },
    {
     "name": "stdout",
     "output_type": "stream",
     "text": [
      " 99%|█████████▉| 99/100 [3:26:04<01:35, 95.21s/trial, best loss: -0.9618009024183336] "
     ]
    },
    {
     "name": "stderr",
     "output_type": "stream",
     "text": [
      "[Stage 98:>                                                         (0 + 1) / 1]\r"
     ]
    },
    {
     "name": "stdout",
     "output_type": "stream",
     "text": [
      "100%|██████████| 100/100 [3:29:10<00:00, 125.50s/trial, best loss: -0.9618009024183336]"
     ]
    },
    {
     "name": "stderr",
     "output_type": "stream",
     "text": [
      "                                                                                \r"
     ]
    },
    {
     "name": "stdout",
     "output_type": "stream",
     "text": [
      "\n"
     ]
    },
    {
     "name": "stderr",
     "output_type": "stream",
     "text": [
      "Total Trials: 100: 100 succeeded, 0 failed, 0 cancelled.\n"
     ]
    },
    {
     "name": "stdout",
     "output_type": "stream",
     "text": [
      "Best hyperparameters: {'boosting_type': 1, 'colsample_bytree': 0.8369799191033762, 'learning_rate': 0.14408193699659572, 'max_depth': 13, 'min_child_weight': 1.3239044242562388, 'n_estimators': 885, 'num_leaves': 95, 'reg_alpha': 0.693583254475872, 'reg_lambda': 0.8707167432885, 'subsample': 0.7529152300659998}\n"
     ]
    }
   ],
   "source": [
    "from hyperopt import fmin, tpe, Trials, SparkTrials\n",
    "\n",
    "spark = (\n",
    "    SparkSession.builder\n",
    "    .config(\"spark.executor.memory\", \"5g\")\n",
    "    .config(\"spark.driver.memory\", \"5g\")\n",
    "    .config(\"spark.jars\", \"postgresql-42.7.1.jar\")\n",
    "    .getOrCreate()\n",
    ")\n",
    "\n",
    "# trials = Trials()\n",
    "# Example for using SparkTrials\n",
    "trials = SparkTrials(parallelism=5, spark_session=spark)\n",
    "best = fmin(fn=objective, space=space, algo=tpe.suggest, max_evals=100, trials=trials)\n",
    "\n",
    "print(\"Best hyperparameters:\", best)"
   ]
  },
  {
   "cell_type": "code",
   "execution_count": 13,
   "metadata": {},
   "outputs": [
    {
     "name": "stdout",
     "output_type": "stream",
     "text": [
      "{'boosting_type': 1, 'colsample_bytree': 0.8369799191033762, 'learning_rate': 0.14408193699659572, 'max_depth': 13, 'min_child_weight': 1.3239044242562388, 'n_estimators': 885, 'num_leaves': 95, 'reg_alpha': 0.693583254475872, 'reg_lambda': 0.8707167432885, 'subsample': 0.7529152300659998}\n"
     ]
    }
   ],
   "source": [
    "print(best)"
   ]
  },
  {
   "cell_type": "markdown",
   "metadata": {},
   "source": [
    "# Train final model"
   ]
  },
  {
   "cell_type": "code",
   "execution_count": 30,
   "metadata": {},
   "outputs": [
    {
     "name": "stdout",
     "output_type": "stream",
     "text": [
      "[LightGBM] [Info] Number of positive: 206878, number of negative: 769165\n",
      "[LightGBM] [Info] Auto-choosing row-wise multi-threading, the overhead of testing was 0.069151 seconds.\n",
      "You can set `force_row_wise=true` to remove the overhead.\n",
      "And if memory is not enough, you can set `force_col_wise=true`.\n",
      "[LightGBM] [Info] Total Bins 11592\n",
      "[LightGBM] [Info] Number of data points in the train set: 976043, number of used features: 98\n",
      "[LightGBM] [Info] [binary:BoostFromScore]: pavg=0.211956 -> initscore=-1.313176\n",
      "[LightGBM] [Info] Start training from score -1.313176\n",
      "[LightGBM] [Warning] No further splits with positive gain, best gain: -inf\n",
      "[LightGBM] [Warning] No further splits with positive gain, best gain: -inf\n",
      "[LightGBM] [Warning] No further splits with positive gain, best gain: -inf\n",
      "[LightGBM] [Warning] No further splits with positive gain, best gain: -inf\n",
      "[LightGBM] [Warning] No further splits with positive gain, best gain: -inf\n",
      "[LightGBM] [Warning] No further splits with positive gain, best gain: -inf\n"
     ]
    },
    {
     "data": {
      "text/html": [
       "<style>#sk-container-id-1 {color: black;}#sk-container-id-1 pre{padding: 0;}#sk-container-id-1 div.sk-toggleable {background-color: white;}#sk-container-id-1 label.sk-toggleable__label {cursor: pointer;display: block;width: 100%;margin-bottom: 0;padding: 0.3em;box-sizing: border-box;text-align: center;}#sk-container-id-1 label.sk-toggleable__label-arrow:before {content: \"▸\";float: left;margin-right: 0.25em;color: #696969;}#sk-container-id-1 label.sk-toggleable__label-arrow:hover:before {color: black;}#sk-container-id-1 div.sk-estimator:hover label.sk-toggleable__label-arrow:before {color: black;}#sk-container-id-1 div.sk-toggleable__content {max-height: 0;max-width: 0;overflow: hidden;text-align: left;background-color: #f0f8ff;}#sk-container-id-1 div.sk-toggleable__content pre {margin: 0.2em;color: black;border-radius: 0.25em;background-color: #f0f8ff;}#sk-container-id-1 input.sk-toggleable__control:checked~div.sk-toggleable__content {max-height: 200px;max-width: 100%;overflow: auto;}#sk-container-id-1 input.sk-toggleable__control:checked~label.sk-toggleable__label-arrow:before {content: \"▾\";}#sk-container-id-1 div.sk-estimator input.sk-toggleable__control:checked~label.sk-toggleable__label {background-color: #d4ebff;}#sk-container-id-1 div.sk-label input.sk-toggleable__control:checked~label.sk-toggleable__label {background-color: #d4ebff;}#sk-container-id-1 input.sk-hidden--visually {border: 0;clip: rect(1px 1px 1px 1px);clip: rect(1px, 1px, 1px, 1px);height: 1px;margin: -1px;overflow: hidden;padding: 0;position: absolute;width: 1px;}#sk-container-id-1 div.sk-estimator {font-family: monospace;background-color: #f0f8ff;border: 1px dotted black;border-radius: 0.25em;box-sizing: border-box;margin-bottom: 0.5em;}#sk-container-id-1 div.sk-estimator:hover {background-color: #d4ebff;}#sk-container-id-1 div.sk-parallel-item::after {content: \"\";width: 100%;border-bottom: 1px solid gray;flex-grow: 1;}#sk-container-id-1 div.sk-label:hover label.sk-toggleable__label {background-color: #d4ebff;}#sk-container-id-1 div.sk-serial::before {content: \"\";position: absolute;border-left: 1px solid gray;box-sizing: border-box;top: 0;bottom: 0;left: 50%;z-index: 0;}#sk-container-id-1 div.sk-serial {display: flex;flex-direction: column;align-items: center;background-color: white;padding-right: 0.2em;padding-left: 0.2em;position: relative;}#sk-container-id-1 div.sk-item {position: relative;z-index: 1;}#sk-container-id-1 div.sk-parallel {display: flex;align-items: stretch;justify-content: center;background-color: white;position: relative;}#sk-container-id-1 div.sk-item::before, #sk-container-id-1 div.sk-parallel-item::before {content: \"\";position: absolute;border-left: 1px solid gray;box-sizing: border-box;top: 0;bottom: 0;left: 50%;z-index: -1;}#sk-container-id-1 div.sk-parallel-item {display: flex;flex-direction: column;z-index: 1;position: relative;background-color: white;}#sk-container-id-1 div.sk-parallel-item:first-child::after {align-self: flex-end;width: 50%;}#sk-container-id-1 div.sk-parallel-item:last-child::after {align-self: flex-start;width: 50%;}#sk-container-id-1 div.sk-parallel-item:only-child::after {width: 0;}#sk-container-id-1 div.sk-dashed-wrapped {border: 1px dashed gray;margin: 0 0.4em 0.5em 0.4em;box-sizing: border-box;padding-bottom: 0.4em;background-color: white;}#sk-container-id-1 div.sk-label label {font-family: monospace;font-weight: bold;display: inline-block;line-height: 1.2em;}#sk-container-id-1 div.sk-label-container {text-align: center;}#sk-container-id-1 div.sk-container {/* jupyter's `normalize.less` sets `[hidden] { display: none; }` but bootstrap.min.css set `[hidden] { display: none !important; }` so we also need the `!important` here to be able to override the default hidden behavior on the sphinx rendered scikit-learn.org. See: https://github.com/scikit-learn/scikit-learn/issues/21755 */display: inline-block !important;position: relative;}#sk-container-id-1 div.sk-text-repr-fallback {display: none;}</style><div id=\"sk-container-id-1\" class=\"sk-top-container\"><div class=\"sk-text-repr-fallback\"><pre>LGBMClassifier(colsample_bytree=0.8369799191033762,\n",
       "               learning_rate=0.14408193699659572, max_depth=13,\n",
       "               min_child_weight=1.3239044242562388, n_estimators=885,\n",
       "               num_leaves=95, reg_alpha=0.693583254475872,\n",
       "               reg_lambda=0.8707167432885, subsample=0.7529152300659998)</pre><b>In a Jupyter environment, please rerun this cell to show the HTML representation or trust the notebook. <br />On GitHub, the HTML representation is unable to render, please try loading this page with nbviewer.org.</b></div><div class=\"sk-container\" hidden><div class=\"sk-item\"><div class=\"sk-estimator sk-toggleable\"><input class=\"sk-toggleable__control sk-hidden--visually\" id=\"sk-estimator-id-1\" type=\"checkbox\" checked><label for=\"sk-estimator-id-1\" class=\"sk-toggleable__label sk-toggleable__label-arrow\">LGBMClassifier</label><div class=\"sk-toggleable__content\"><pre>LGBMClassifier(colsample_bytree=0.8369799191033762,\n",
       "               learning_rate=0.14408193699659572, max_depth=13,\n",
       "               min_child_weight=1.3239044242562388, n_estimators=885,\n",
       "               num_leaves=95, reg_alpha=0.693583254475872,\n",
       "               reg_lambda=0.8707167432885, subsample=0.7529152300659998)</pre></div></div></div></div></div>"
      ],
      "text/plain": [
       "LGBMClassifier(colsample_bytree=0.8369799191033762,\n",
       "               learning_rate=0.14408193699659572, max_depth=13,\n",
       "               min_child_weight=1.3239044242562388, n_estimators=885,\n",
       "               num_leaves=95, reg_alpha=0.693583254475872,\n",
       "               reg_lambda=0.8707167432885, subsample=0.7529152300659998)"
      ]
     },
     "execution_count": 30,
     "metadata": {},
     "output_type": "execute_result"
    }
   ],
   "source": [
    "best_params = space.copy()\n",
    "best_params.update(best)\n",
    "\n",
    "best_params = {\n",
    "    \"boosting_type\": \"gbdt\",  # 1\n",
    "    \"colsample_bytree\": 0.8369799191033762,\n",
    "    \"learning_rate\": 0.14408193699659572,\n",
    "    \"max_depth\": 13,\n",
    "    \"min_child_weight\": 1.3239044242562388,\n",
    "    \"n_estimators\": 885,\n",
    "    \"num_leaves\": 95,\n",
    "    \"reg_alpha\": 0.693583254475872,\n",
    "    \"reg_lambda\": 0.8707167432885,\n",
    "    \"subsample\": 0.7529152300659998,\n",
    "}\n",
    "\n",
    "final_model = lgb.LGBMClassifier(**best_params)\n",
    "final_model.fit(X_train, y_train)"
   ]
  },
  {
   "cell_type": "markdown",
   "metadata": {},
   "source": [
    "# Evaluate model"
   ]
  },
  {
   "cell_type": "code",
   "execution_count": 33,
   "metadata": {},
   "outputs": [
    {
     "name": "stdout",
     "output_type": "stream",
     "text": [
      "Final model accuracy: 0.961259943199282\n"
     ]
    }
   ],
   "source": [
    "final_pred = final_model.predict(X_test)\n",
    "final_accuracy = accuracy_score(y_test, final_pred)\n",
    "print(\"Final model accuracy:\", final_accuracy)"
   ]
  },
  {
   "cell_type": "code",
   "execution_count": 34,
   "metadata": {},
   "outputs": [
    {
     "data": {
      "text/plain": [
       "Index(['レースキー', '馬番', '枠番', '場名', '年月日', '頭数', '四半期', '単勝的中', '単勝払戻金', '複勝的中',\n",
       "       ...\n",
       "       '調教師場所レース数', '調教師場所1位完走', '調教師場所トップ3完走', '調教師場所1位完走率', '調教師場所トップ3完走率',\n",
       "       '過去3走順位平方和', '過去5走勝率', '過去5走トップ3完走率', '騎手過去5走勝率', '騎手過去5走トップ3完走率'],\n",
       "      dtype='object', length=111)"
      ]
     },
     "execution_count": 34,
     "metadata": {},
     "output_type": "execute_result"
    }
   ],
   "source": [
    "list(data.columns)"
   ]
  },
  {
   "cell_type": "code",
   "execution_count": 38,
   "metadata": {},
   "outputs": [
    {
     "data": {
      "text/html": [
       "<div>\n",
       "<style scoped>\n",
       "    .dataframe tbody tr th:only-of-type {\n",
       "        vertical-align: middle;\n",
       "    }\n",
       "\n",
       "    .dataframe tbody tr th {\n",
       "        vertical-align: top;\n",
       "    }\n",
       "\n",
       "    .dataframe thead th {\n",
       "        text-align: right;\n",
       "    }\n",
       "</style>\n",
       "<table border=\"1\" class=\"dataframe\">\n",
       "  <thead>\n",
       "    <tr style=\"text-align: right;\">\n",
       "      <th></th>\n",
       "      <th>前日_芝馬場差</th>\n",
       "      <th>前日_ダ馬場差</th>\n",
       "      <th>前日_ＩＤＭ</th>\n",
       "      <th>前日_単勝オッズ</th>\n",
       "      <th>前日_複勝オッズ</th>\n",
       "      <th>直前_ＩＤＭ</th>\n",
       "      <th>直前_騎手指数</th>\n",
       "      <th>直前_情報指数</th>\n",
       "      <th>直前_オッズ指数</th>\n",
       "      <th>直前_パドック指数</th>\n",
       "      <th>...</th>\n",
       "      <th>トラック種別</th>\n",
       "      <th>前日_脚質</th>\n",
       "      <th>直前_脚元情報</th>\n",
       "      <th>直前_天候</th>\n",
       "      <th>前走トップ3</th>\n",
       "      <th>前走枠番</th>\n",
       "      <th>入厩15日未満</th>\n",
       "      <th>入厩35日以上</th>\n",
       "      <th>4歳以下</th>\n",
       "      <th>final_pred</th>\n",
       "    </tr>\n",
       "  </thead>\n",
       "  <tbody>\n",
       "    <tr>\n",
       "      <th>118382</th>\n",
       "      <td>-8.0</td>\n",
       "      <td>-8.0</td>\n",
       "      <td>34.0</td>\n",
       "      <td>22.4</td>\n",
       "      <td>4.3</td>\n",
       "      <td>34.0</td>\n",
       "      <td>0.4</td>\n",
       "      <td>3.7</td>\n",
       "      <td>0.0</td>\n",
       "      <td>0.0</td>\n",
       "      <td>...</td>\n",
       "      <td>ダート</td>\n",
       "      <td>先行</td>\n",
       "      <td>0</td>\n",
       "      <td>晴</td>\n",
       "      <td>False</td>\n",
       "      <td>2</td>\n",
       "      <td>False</td>\n",
       "      <td>True</td>\n",
       "      <td>True</td>\n",
       "      <td>False</td>\n",
       "    </tr>\n",
       "    <tr>\n",
       "      <th>724411</th>\n",
       "      <td>NaN</td>\n",
       "      <td>NaN</td>\n",
       "      <td>54.0</td>\n",
       "      <td>NaN</td>\n",
       "      <td>NaN</td>\n",
       "      <td>53.0</td>\n",
       "      <td>0.8</td>\n",
       "      <td>1.2</td>\n",
       "      <td>0.0</td>\n",
       "      <td>0.0</td>\n",
       "      <td>...</td>\n",
       "      <td>芝</td>\n",
       "      <td>先行</td>\n",
       "      <td>0</td>\n",
       "      <td>雨</td>\n",
       "      <td>True</td>\n",
       "      <td>5</td>\n",
       "      <td>NaN</td>\n",
       "      <td>NaN</td>\n",
       "      <td>True</td>\n",
       "      <td>False</td>\n",
       "    </tr>\n",
       "    <tr>\n",
       "      <th>636861</th>\n",
       "      <td>-6.0</td>\n",
       "      <td>-8.0</td>\n",
       "      <td>43.0</td>\n",
       "      <td>5.8</td>\n",
       "      <td>1.5</td>\n",
       "      <td>43.0</td>\n",
       "      <td>1.6</td>\n",
       "      <td>2.4</td>\n",
       "      <td>2.0</td>\n",
       "      <td>2.0</td>\n",
       "      <td>...</td>\n",
       "      <td>芝</td>\n",
       "      <td>先行</td>\n",
       "      <td>0</td>\n",
       "      <td>小雨</td>\n",
       "      <td>False</td>\n",
       "      <td>8</td>\n",
       "      <td>False</td>\n",
       "      <td>False</td>\n",
       "      <td>True</td>\n",
       "      <td>False</td>\n",
       "    </tr>\n",
       "    <tr>\n",
       "      <th>931865</th>\n",
       "      <td>NaN</td>\n",
       "      <td>NaN</td>\n",
       "      <td>34.0</td>\n",
       "      <td>38.7</td>\n",
       "      <td>6.8</td>\n",
       "      <td>34.0</td>\n",
       "      <td>0.3</td>\n",
       "      <td>-1.0</td>\n",
       "      <td>0.0</td>\n",
       "      <td>0.0</td>\n",
       "      <td>...</td>\n",
       "      <td>芝</td>\n",
       "      <td>好位差し</td>\n",
       "      <td>0</td>\n",
       "      <td>晴</td>\n",
       "      <td>False</td>\n",
       "      <td>5</td>\n",
       "      <td>NaN</td>\n",
       "      <td>NaN</td>\n",
       "      <td>True</td>\n",
       "      <td>True</td>\n",
       "    </tr>\n",
       "    <tr>\n",
       "      <th>473644</th>\n",
       "      <td>-20.0</td>\n",
       "      <td>-8.0</td>\n",
       "      <td>52.0</td>\n",
       "      <td>5.5</td>\n",
       "      <td>1.9</td>\n",
       "      <td>52.0</td>\n",
       "      <td>1.5</td>\n",
       "      <td>0.8</td>\n",
       "      <td>3.0</td>\n",
       "      <td>0.0</td>\n",
       "      <td>...</td>\n",
       "      <td>ダート</td>\n",
       "      <td>差し</td>\n",
       "      <td>2</td>\n",
       "      <td>晴</td>\n",
       "      <td>False</td>\n",
       "      <td>6</td>\n",
       "      <td>False</td>\n",
       "      <td>False</td>\n",
       "      <td>True</td>\n",
       "      <td>False</td>\n",
       "    </tr>\n",
       "    <tr>\n",
       "      <th>...</th>\n",
       "      <td>...</td>\n",
       "      <td>...</td>\n",
       "      <td>...</td>\n",
       "      <td>...</td>\n",
       "      <td>...</td>\n",
       "      <td>...</td>\n",
       "      <td>...</td>\n",
       "      <td>...</td>\n",
       "      <td>...</td>\n",
       "      <td>...</td>\n",
       "      <td>...</td>\n",
       "      <td>...</td>\n",
       "      <td>...</td>\n",
       "      <td>...</td>\n",
       "      <td>...</td>\n",
       "      <td>...</td>\n",
       "      <td>...</td>\n",
       "      <td>...</td>\n",
       "      <td>...</td>\n",
       "      <td>...</td>\n",
       "      <td>...</td>\n",
       "    </tr>\n",
       "    <tr>\n",
       "      <th>541001</th>\n",
       "      <td>-10.0</td>\n",
       "      <td>-15.0</td>\n",
       "      <td>10.0</td>\n",
       "      <td>105.7</td>\n",
       "      <td>21.0</td>\n",
       "      <td>10.0</td>\n",
       "      <td>0.0</td>\n",
       "      <td>0.0</td>\n",
       "      <td>0.0</td>\n",
       "      <td>0.0</td>\n",
       "      <td>...</td>\n",
       "      <td>芝</td>\n",
       "      <td>追込</td>\n",
       "      <td>0</td>\n",
       "      <td>雨</td>\n",
       "      <td>False</td>\n",
       "      <td>8</td>\n",
       "      <td>False</td>\n",
       "      <td>False</td>\n",
       "      <td>True</td>\n",
       "      <td>False</td>\n",
       "    </tr>\n",
       "    <tr>\n",
       "      <th>1157787</th>\n",
       "      <td>-6.0</td>\n",
       "      <td>-12.0</td>\n",
       "      <td>24.0</td>\n",
       "      <td>40.7</td>\n",
       "      <td>7.3</td>\n",
       "      <td>24.0</td>\n",
       "      <td>0.2</td>\n",
       "      <td>0.0</td>\n",
       "      <td>0.0</td>\n",
       "      <td>2.4</td>\n",
       "      <td>...</td>\n",
       "      <td>芝</td>\n",
       "      <td>追込</td>\n",
       "      <td>0</td>\n",
       "      <td>曇</td>\n",
       "      <td>False</td>\n",
       "      <td>5</td>\n",
       "      <td>NaN</td>\n",
       "      <td>NaN</td>\n",
       "      <td>True</td>\n",
       "      <td>True</td>\n",
       "    </tr>\n",
       "    <tr>\n",
       "      <th>513018</th>\n",
       "      <td>-16.0</td>\n",
       "      <td>-12.0</td>\n",
       "      <td>44.0</td>\n",
       "      <td>27.7</td>\n",
       "      <td>4.8</td>\n",
       "      <td>44.0</td>\n",
       "      <td>0.4</td>\n",
       "      <td>1.2</td>\n",
       "      <td>2.5</td>\n",
       "      <td>0.0</td>\n",
       "      <td>...</td>\n",
       "      <td>芝</td>\n",
       "      <td>差し</td>\n",
       "      <td>0</td>\n",
       "      <td>晴</td>\n",
       "      <td>False</td>\n",
       "      <td>8</td>\n",
       "      <td>False</td>\n",
       "      <td>True</td>\n",
       "      <td>True</td>\n",
       "      <td>False</td>\n",
       "    </tr>\n",
       "    <tr>\n",
       "      <th>1148413</th>\n",
       "      <td>-8.0</td>\n",
       "      <td>-10.0</td>\n",
       "      <td>23.7</td>\n",
       "      <td>13.4</td>\n",
       "      <td>3.4</td>\n",
       "      <td>23.7</td>\n",
       "      <td>0.7</td>\n",
       "      <td>0.8</td>\n",
       "      <td>0.0</td>\n",
       "      <td>0.0</td>\n",
       "      <td>...</td>\n",
       "      <td>ダート</td>\n",
       "      <td>逃げ</td>\n",
       "      <td>0</td>\n",
       "      <td>晴</td>\n",
       "      <td>False</td>\n",
       "      <td>3</td>\n",
       "      <td>False</td>\n",
       "      <td>True</td>\n",
       "      <td>True</td>\n",
       "      <td>False</td>\n",
       "    </tr>\n",
       "    <tr>\n",
       "      <th>299480</th>\n",
       "      <td>-12.0</td>\n",
       "      <td>-12.0</td>\n",
       "      <td>30.0</td>\n",
       "      <td>46.7</td>\n",
       "      <td>9.9</td>\n",
       "      <td>30.0</td>\n",
       "      <td>0.2</td>\n",
       "      <td>0.0</td>\n",
       "      <td>0.0</td>\n",
       "      <td>0.0</td>\n",
       "      <td>...</td>\n",
       "      <td>ダート</td>\n",
       "      <td>先行</td>\n",
       "      <td>0</td>\n",
       "      <td>晴</td>\n",
       "      <td>True</td>\n",
       "      <td>4</td>\n",
       "      <td>False</td>\n",
       "      <td>True</td>\n",
       "      <td>True</td>\n",
       "      <td>False</td>\n",
       "    </tr>\n",
       "  </tbody>\n",
       "</table>\n",
       "<p>244011 rows × 99 columns</p>\n",
       "</div>"
      ],
      "text/plain": [
       "         前日_芝馬場差  前日_ダ馬場差  前日_ＩＤＭ  前日_単勝オッズ  前日_複勝オッズ  直前_ＩＤＭ  直前_騎手指数  \\\n",
       "118382      -8.0     -8.0    34.0      22.4       4.3    34.0      0.4   \n",
       "724411       NaN      NaN    54.0       NaN       NaN    53.0      0.8   \n",
       "636861      -6.0     -8.0    43.0       5.8       1.5    43.0      1.6   \n",
       "931865       NaN      NaN    34.0      38.7       6.8    34.0      0.3   \n",
       "473644     -20.0     -8.0    52.0       5.5       1.9    52.0      1.5   \n",
       "...          ...      ...     ...       ...       ...     ...      ...   \n",
       "541001     -10.0    -15.0    10.0     105.7      21.0    10.0      0.0   \n",
       "1157787     -6.0    -12.0    24.0      40.7       7.3    24.0      0.2   \n",
       "513018     -16.0    -12.0    44.0      27.7       4.8    44.0      0.4   \n",
       "1148413     -8.0    -10.0    23.7      13.4       3.4    23.7      0.7   \n",
       "299480     -12.0    -12.0    30.0      46.7       9.9    30.0      0.2   \n",
       "\n",
       "         直前_情報指数  直前_オッズ指数  直前_パドック指数  ...  トラック種別  前日_脚質  直前_脚元情報  直前_天候  \\\n",
       "118382       3.7       0.0        0.0  ...     ダート     先行        0      晴   \n",
       "724411       1.2       0.0        0.0  ...       芝     先行        0      雨   \n",
       "636861       2.4       2.0        2.0  ...       芝     先行        0     小雨   \n",
       "931865      -1.0       0.0        0.0  ...       芝   好位差し        0      晴   \n",
       "473644       0.8       3.0        0.0  ...     ダート     差し        2      晴   \n",
       "...          ...       ...        ...  ...     ...    ...      ...    ...   \n",
       "541001       0.0       0.0        0.0  ...       芝     追込        0      雨   \n",
       "1157787      0.0       0.0        2.4  ...       芝     追込        0      曇   \n",
       "513018       1.2       2.5        0.0  ...       芝     差し        0      晴   \n",
       "1148413      0.8       0.0        0.0  ...     ダート     逃げ        0      晴   \n",
       "299480       0.0       0.0        0.0  ...     ダート     先行        0      晴   \n",
       "\n",
       "         前走トップ3  前走枠番  入厩15日未満  入厩35日以上  4歳以下  final_pred  \n",
       "118382    False     2    False     True  True       False  \n",
       "724411     True     5      NaN      NaN  True       False  \n",
       "636861    False     8    False    False  True       False  \n",
       "931865    False     5      NaN      NaN  True        True  \n",
       "473644    False     6    False    False  True       False  \n",
       "...         ...   ...      ...      ...   ...         ...  \n",
       "541001    False     8    False    False  True       False  \n",
       "1157787   False     5      NaN      NaN  True        True  \n",
       "513018    False     8    False     True  True       False  \n",
       "1148413   False     3    False     True  True       False  \n",
       "299480     True     4    False     True  True       False  \n",
       "\n",
       "[244011 rows x 99 columns]"
      ]
     },
     "execution_count": 38,
     "metadata": {},
     "output_type": "execute_result"
    }
   ],
   "source": [
    "(\n",
    "    X_test\n",
    "    .assign(final_pred=final_pred)\n",
    "    # .join(data[[\"レースキー\", \"馬番\", \"複勝払戻金\"]], on=[\"レースキー\", \"馬番\"], how=\"left\")\n",
    "    # .assign(的中=lambda df: df[\"final_pred\"] == df[\"複勝的中\"])\n",
    ")"
   ]
  }
 ],
 "metadata": {
  "kernelspec": {
   "display_name": ".venv",
   "language": "python",
   "name": "python3"
  },
  "language_info": {
   "codemirror_mode": {
    "name": "ipython",
    "version": 3
   },
   "file_extension": ".py",
   "mimetype": "text/x-python",
   "name": "python",
   "nbconvert_exporter": "python",
   "pygments_lexer": "ipython3",
   "version": "3.11.6"
  }
 },
 "nbformat": 4,
 "nbformat_minor": 2
}
