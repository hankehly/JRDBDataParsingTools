{
 "cells": [
  {
   "cell_type": "code",
   "execution_count": 3,
   "id": "a0803387-a429-46e9-8804-1d116d719ddb",
   "metadata": {},
   "outputs": [],
   "source": [
    "from pyspark.sql import SparkSession\n",
    "from JRDBDataParsingTools.parse import load_schema, parse_line, create_pyspark_schema\n",
    "from pyspark.sql.types import StringType, StructType, StructField\n",
    "from pyspark.sql import functions as f\n",
    "import pandas as pd\n",
    "from pyspark.sql.types import StructType, StructField, StringType\n",
    "from typing import List\n",
    "import functools\n",
    "\n",
    "# Set display options\n",
    "pd.set_option(\"display.max_columns\", None)  # Ensures all columns are displayed\n",
    "pd.set_option(\"display.expand_frame_repr\", False)  # Disable wrapping of the DataFrame\n",
    "\n",
    "\n",
    "spark = SparkSession.builder.config(\"spark.jars\", \"postgresql-42.7.1.jar\").getOrCreate()"
   ]
  },
  {
   "cell_type": "markdown",
   "id": "45ef431f",
   "metadata": {},
   "source": [
    "Add required schemas and roles to the database.\n",
    "\n",
    "```sql\n",
    "CREATE SCHEMA IF NOT EXISTS bronze\n",
    "    AUTHORIZATION myuser;\n",
    "\n",
    "COMMENT ON SCHEMA public\n",
    "    IS 'bronze layer schema';\n",
    "\n",
    "GRANT ALL ON SCHEMA public TO myuser;\n",
    "```"
   ]
  },
  {
   "cell_type": "code",
   "execution_count": 2,
   "id": "91f75533",
   "metadata": {},
   "outputs": [],
   "source": [
    "jdbc_common_options = {\n",
    "    \"url\": \"jdbc:postgresql://localhost:5432/jrdb\",\n",
    "    \"user\": \"myuser\",\n",
    "    \"password\": \"mypassword\",\n",
    "    \"driver\": \"org.postgresql.Driver\"\n",
    "}"
   ]
  },
  {
   "cell_type": "code",
   "execution_count": 10,
   "id": "8a8aa80f",
   "metadata": {},
   "outputs": [
    {
     "name": "stderr",
     "output_type": "stream",
     "text": [
      "                                                                                \r"
     ]
    }
   ],
   "source": [
    "(\n",
    "    spark.read.format(\"binaryFile\")\n",
    "    .load(\"jrdb-data/SED*.txt\")\n",
    "    .select(\"content\")\n",
    "    .rdd.flatMap(lambda x: x[0].splitlines())\n",
    "    .map(functools.partial(parse_line, schema=load_schema(\"schemas/SED.yaml\")))\n",
    "    .toDF(create_pyspark_schema(load_schema(\"schemas/SED.yaml\")))\n",
    "    .withColumn(\"input_file_name\", f.input_file_name())\n",
    "    .write.format(\"jdbc\")\n",
    "    .options(**jdbc_common_options)\n",
    "    .option(\"dbtable\", \"bronze.sed\")\n",
    "    .mode(\"overwrite\")\n",
    "    .save()\n",
    ")"
   ]
  },
  {
   "cell_type": "code",
   "execution_count": 13,
   "id": "b88f7e51",
   "metadata": {},
   "outputs": [
    {
     "name": "stderr",
     "output_type": "stream",
     "text": [
      "                                                                                \r"
     ]
    }
   ],
   "source": [
    "(\n",
    "    spark.read.format(\"binaryFile\")\n",
    "    .load(\"jrdb-data/KYI*.txt\")\n",
    "    .select(\"content\")\n",
    "    .rdd.flatMap(lambda x: x[0].splitlines())\n",
    "    .map(functools.partial(parse_line, schema=load_schema(\"schemas/KYI.yaml\")))\n",
    "    .toDF(create_pyspark_schema(load_schema(\"schemas/KYI.yaml\")))\n",
    "    .withColumn(\"input_file_name\", f.input_file_name())\n",
    "    .write.format(\"jdbc\")\n",
    "    .options(**jdbc_common_options)\n",
    "    .option(\"dbtable\", \"bronze.kyi\")\n",
    "    .mode(\"overwrite\")\n",
    "    .save()\n",
    ")"
   ]
  },
  {
   "cell_type": "code",
   "execution_count": 14,
   "id": "5aa5bb3f",
   "metadata": {},
   "outputs": [
    {
     "name": "stderr",
     "output_type": "stream",
     "text": [
      "                                                                                \r"
     ]
    }
   ],
   "source": [
    "(\n",
    "    spark.read.format(\"binaryFile\")\n",
    "    .load(\"jrdb-data/UKC*.txt\")\n",
    "    .select(\"content\")\n",
    "    .rdd.flatMap(lambda x: x[0].splitlines())\n",
    "    .map(functools.partial(parse_line, schema=load_schema(\"schemas/UKC.yaml\")))\n",
    "    .toDF(create_pyspark_schema(load_schema(\"schemas/UKC.yaml\")))\n",
    "    .withColumn(\"input_file_name\", f.input_file_name())\n",
    "    .write.format(\"jdbc\")\n",
    "    .options(**jdbc_common_options)\n",
    "    .option(\"dbtable\", \"bronze.ukc\")\n",
    "    .mode(\"overwrite\")\n",
    "    .save()\n",
    ")"
   ]
  },
  {
   "cell_type": "code",
   "execution_count": 15,
   "id": "3c4d9c84",
   "metadata": {},
   "outputs": [
    {
     "name": "stderr",
     "output_type": "stream",
     "text": [
      "                                                                                \r"
     ]
    }
   ],
   "source": [
    "(\n",
    "    spark.read.format(\"binaryFile\")\n",
    "    .load(\"jrdb-data/BAC*.txt\")\n",
    "    .select(\"content\")\n",
    "    .rdd.flatMap(lambda x: x[0].splitlines())\n",
    "    .map(functools.partial(parse_line, schema=load_schema(\"schemas/BAC.yaml\")))\n",
    "    .toDF(create_pyspark_schema(load_schema(\"schemas/BAC.yaml\")))\n",
    "    .withColumn(\"input_file_name\", f.input_file_name())\n",
    "    .write.format(\"jdbc\")\n",
    "    .options(**jdbc_common_options)\n",
    "    .option(\"dbtable\", \"bronze.bac\")\n",
    "    .mode(\"overwrite\")\n",
    "    .save()\n",
    ")"
   ]
  },
  {
   "cell_type": "code",
   "execution_count": 10,
   "id": "c390bcf2",
   "metadata": {},
   "outputs": [
    {
     "name": "stderr",
     "output_type": "stream",
     "text": [
      "                                                                                \r"
     ]
    }
   ],
   "source": [
    "df = (\n",
    "    spark.read.format(\"binaryFile\")\n",
    "    .load(\"jrdb-data/OZ*.txt\")\n",
    "    .select(\"content\")\n",
    "    .rdd.flatMap(lambda x: x[0].splitlines())\n",
    "    .map(functools.partial(parse_line, schema=load_schema(\"schemas/OZ.yaml\")))\n",
    "    .toDF(create_pyspark_schema(load_schema(\"schemas/OZ.yaml\")))\n",
    ")\n",
    "\n",
    "(\n",
    "    df\n",
    "    .withColumn(\"input_file_name\", f.input_file_name())\n",
    "    .write.format(\"jdbc\")\n",
    "    .options(**jdbc_common_options)\n",
    "    .option(\"dbtable\", \"bronze.oz\")\n",
    "    .mode(\"overwrite\")\n",
    "    .save()\n",
    ")"
   ]
  }
 ],
 "metadata": {
  "kernelspec": {
   "display_name": "Python 3 (ipykernel)",
   "language": "python",
   "name": "python3"
  },
  "language_info": {
   "codemirror_mode": {
    "name": "ipython",
    "version": 3
   },
   "file_extension": ".py",
   "mimetype": "text/x-python",
   "name": "python",
   "nbconvert_exporter": "python",
   "pygments_lexer": "ipython3",
   "version": "3.11.6"
  }
 },
 "nbformat": 4,
 "nbformat_minor": 5
}
