{
 "cells": [
  {
   "cell_type": "code",
   "execution_count": null,
   "id": "a0803387-a429-46e9-8804-1d116d719ddb",
   "metadata": {},
   "outputs": [],
   "source": [
    "from pyspark.sql import SparkSession\n",
    "from JRDBDataParsingTools.data_schema import load_schema, parse_line, create_pyspark_schema\n",
    "from pyspark.sql import functions as f\n",
    "import pandas as pd\n",
    "from typing import List\n",
    "import functools\n",
    "\n",
    "\n",
    "# Set display options\n",
    "pd.set_option(\"display.max_columns\", None)  # Ensures all columns are displayed\n",
    "pd.set_option(\"display.expand_frame_repr\", False)  # Disable wrapping of the DataFrame\n",
    "\n",
    "\n",
    "spark = SparkSession.builder.config(\"spark.jars\", \"postgresql-42.7.1.jar\").getOrCreate()"
   ]
  },
  {
   "cell_type": "markdown",
   "id": "45ef431f",
   "metadata": {},
   "source": [
    "Add required schemas and roles to the database.\n",
    "\n",
    "```sql\n",
    "CREATE SCHEMA IF NOT EXISTS bronze\n",
    "    AUTHORIZATION myuser;\n",
    "\n",
    "COMMENT ON SCHEMA public\n",
    "    IS 'bronze layer schema';\n",
    "\n",
    "GRANT ALL ON SCHEMA public TO myuser;\n",
    "```"
   ]
  },
  {
   "cell_type": "code",
   "execution_count": null,
   "id": "91f75533",
   "metadata": {},
   "outputs": [],
   "source": [
    "jdbc_common_options = {\n",
    "    \"url\": \"jdbc:postgresql://localhost:5432/jrdb\",\n",
    "    \"user\": \"myuser\",\n",
    "    \"password\": \"mypassword\",\n",
    "    \"driver\": \"org.postgresql.Driver\"\n",
    "}"
   ]
  },
  {
   "cell_type": "code",
   "execution_count": null,
   "id": "8a8aa80f",
   "metadata": {},
   "outputs": [],
   "source": [
    "(\n",
    "    spark.read.format(\"binaryFile\")\n",
    "    .load(\"jrdb-data/SED*.txt\")\n",
    "    .select(\"content\")\n",
    "    .rdd.flatMap(lambda x: x[0].splitlines())\n",
    "    .map(functools.partial(parse_line, schema=load_schema(\"schemas/SED.yaml\")))\n",
    "    .toDF(create_pyspark_schema(load_schema(\"schemas/SED.yaml\")))\n",
    "    .withColumn(\"input_file_name\", f.input_file_name())\n",
    "    .write.format(\"jdbc\")\n",
    "    .options(**jdbc_common_options)\n",
    "    .option(\"dbtable\", \"bronze.sed\")\n",
    "    .mode(\"overwrite\")\n",
    "    .save()\n",
    ")"
   ]
  },
  {
   "cell_type": "code",
   "execution_count": null,
   "id": "b88f7e51",
   "metadata": {},
   "outputs": [],
   "source": [
    "(\n",
    "    spark.read.format(\"binaryFile\")\n",
    "    .load(\"downloads/KYI*.txt\")\n",
    "    .select(\"content\")\n",
    "    .rdd.flatMap(lambda x: x[0].splitlines())\n",
    "    .map(functools.partial(parse_line, schema=load_schema(\"schemas/KYI.yaml\")))\n",
    "    .toDF(create_pyspark_schema(load_schema(\"schemas/KYI.yaml\")))\n",
    "    .withColumn(\"input_file_name\", f.input_file_name())\n",
    "    .write.format(\"jdbc\")\n",
    "    .options(**jdbc_common_options)\n",
    "    .option(\"dbtable\", \"bronze.kyi\")\n",
    "    .mode(\"overwrite\")\n",
    "    .save()\n",
    ")"
   ]
  },
  {
   "cell_type": "code",
   "execution_count": null,
   "id": "5aa5bb3f",
   "metadata": {},
   "outputs": [],
   "source": [
    "(\n",
    "    spark.read.format(\"binaryFile\")\n",
    "    .load(\"jrdb-data/UKC*.txt\")\n",
    "    .select(\"content\")\n",
    "    .rdd.flatMap(lambda x: x[0].splitlines())\n",
    "    .map(functools.partial(parse_line, schema=load_schema(\"schemas/UKC.yaml\")))\n",
    "    .toDF(create_pyspark_schema(load_schema(\"schemas/UKC.yaml\")))\n",
    "    .withColumn(\"input_file_name\", f.input_file_name())\n",
    "    .write.format(\"jdbc\")\n",
    "    .options(**jdbc_common_options)\n",
    "    .option(\"dbtable\", \"bronze.ukc\")\n",
    "    .mode(\"overwrite\")\n",
    "    .save()\n",
    ")"
   ]
  },
  {
   "cell_type": "code",
   "execution_count": null,
   "id": "3c4d9c84",
   "metadata": {},
   "outputs": [],
   "source": [
    "(\n",
    "    spark.read.format(\"binaryFile\")\n",
    "    .load(\"jrdb-data/BAC*.txt\")\n",
    "    .select(\"content\")\n",
    "    .rdd.flatMap(lambda x: x[0].splitlines())\n",
    "    .map(functools.partial(parse_line, schema=load_schema(\"schemas/BAC.yaml\")))\n",
    "    .toDF(create_pyspark_schema(load_schema(\"schemas/BAC.yaml\")))\n",
    "    .withColumn(\"input_file_name\", f.input_file_name())\n",
    "    .write.format(\"jdbc\")\n",
    "    .options(**jdbc_common_options)\n",
    "    .option(\"dbtable\", \"bronze.bac\")\n",
    "    .mode(\"overwrite\")\n",
    "    .save()\n",
    ")"
   ]
  },
  {
   "cell_type": "code",
   "execution_count": null,
   "id": "c390bcf2",
   "metadata": {},
   "outputs": [],
   "source": [
    "df = (\n",
    "    spark.read.format(\"binaryFile\")\n",
    "    .load(\"jrdb-data/OZ*.txt\")\n",
    "    .select(\"content\")\n",
    "    .rdd.flatMap(lambda x: x[0].splitlines())\n",
    "    .map(functools.partial(parse_line, schema=load_schema(\"schemas/OZ.yaml\")))\n",
    "    .toDF(create_pyspark_schema(load_schema(\"schemas/OZ.yaml\")))\n",
    ")\n",
    "\n",
    "(\n",
    "    df\n",
    "    .withColumn(\"input_file_name\", f.input_file_name())\n",
    "    .write.format(\"jdbc\")\n",
    "    .options(**jdbc_common_options)\n",
    "    .option(\"dbtable\", \"bronze.oz\")\n",
    "    .mode(\"overwrite\")\n",
    "    .save()\n",
    ")"
   ]
  },
  {
   "cell_type": "code",
   "execution_count": 2,
   "id": "0b21435f",
   "metadata": {},
   "outputs": [
    {
     "name": "stderr",
     "output_type": "stream",
     "text": [
      "{\"event\": \"Downloading and extracting files from http://www.jrdb.com/member/datazip/Kyi/index.html\", \"level\": \"info\", \"timestamp\": \"2023-12-16T06:15:36.761964Z\", \"logger\": \"JRDBDataParsingTools.file_downloader\"}\n",
      "{\"event\": \"Response status code: 200\", \"level\": \"info\", \"timestamp\": \"2023-12-16T06:15:37.628795Z\", \"logger\": \"JRDBDataParsingTools.file_downloader\"}\n",
      "{\"event\": \"Parsing webpage\", \"level\": \"info\", \"timestamp\": \"2023-12-16T06:15:37.629831Z\", \"logger\": \"JRDBDataParsingTools.file_downloader\"}\n",
      "{\"event\": \"Processing year files\", \"level\": \"info\", \"timestamp\": \"2023-12-16T06:15:37.848773Z\", \"logger\": \"JRDBDataParsingTools.file_downloader\"}\n"
     ]
    },
    {
     "ename": "TypeError",
     "evalue": "Cannot mix str and non-str arguments",
     "output_type": "error",
     "traceback": [
      "\u001b[0;31m---------------------------------------------------------------------------\u001b[0m",
      "\u001b[0;31mTypeError\u001b[0m                                 Traceback (most recent call last)",
      "Cell \u001b[0;32mIn[2], line 14\u001b[0m\n\u001b[1;32m     11\u001b[0m \u001b[38;5;66;03m# The directory where you want to download the files\u001b[39;00m\n\u001b[1;32m     12\u001b[0m download_dir \u001b[38;5;241m=\u001b[39m \u001b[38;5;124m\"\u001b[39m\u001b[38;5;124m/Users/hankehly/Projects/JRDBDataParsingTools/downloads\u001b[39m\u001b[38;5;124m\"\u001b[39m\n\u001b[0;32m---> 14\u001b[0m \u001b[43mdownload_and_extract_files\u001b[49m\u001b[43m(\u001b[49m\u001b[43mwebpage_url\u001b[49m\u001b[43m,\u001b[49m\u001b[43m \u001b[49m\u001b[43musername\u001b[49m\u001b[43m,\u001b[49m\u001b[43m \u001b[49m\u001b[43mpassword\u001b[49m\u001b[43m,\u001b[49m\u001b[43m \u001b[49m\u001b[43mdownload_dir\u001b[49m\u001b[43m)\u001b[49m\n",
      "File \u001b[0;32m~/Projects/JRDBDataParsingTools/JRDBDataParsingTools/file_downloader.py:108\u001b[0m, in \u001b[0;36mdownload_and_extract_files\u001b[0;34m(webpage_url, username, password, download_dir)\u001b[0m\n\u001b[1;32m    106\u001b[0m     file_link \u001b[38;5;241m=\u001b[39m link\u001b[38;5;241m.\u001b[39mget(\u001b[38;5;124m\"\u001b[39m\u001b[38;5;124mhref\u001b[39m\u001b[38;5;124m\"\u001b[39m)\n\u001b[1;32m    107\u001b[0m     \u001b[38;5;28;01mif\u001b[39;00m is_year_file(file_link):\n\u001b[0;32m--> 108\u001b[0m         \u001b[43mdownload_and_extract\u001b[49m\u001b[43m(\u001b[49m\n\u001b[1;32m    109\u001b[0m \u001b[43m            \u001b[49m\u001b[43margs\u001b[49m\u001b[38;5;241;43m.\u001b[39;49m\u001b[43mwebpage_url\u001b[49m\u001b[43m,\u001b[49m\n\u001b[1;32m    110\u001b[0m \u001b[43m            \u001b[49m\u001b[43mfile_link\u001b[49m\u001b[43m,\u001b[49m\n\u001b[1;32m    111\u001b[0m \u001b[43m            \u001b[49m\u001b[43margs\u001b[49m\u001b[38;5;241;43m.\u001b[39;49m\u001b[43musername\u001b[49m\u001b[43m,\u001b[49m\n\u001b[1;32m    112\u001b[0m \u001b[43m            \u001b[49m\u001b[43margs\u001b[49m\u001b[38;5;241;43m.\u001b[39;49m\u001b[43mpassword\u001b[49m\u001b[43m,\u001b[49m\n\u001b[1;32m    113\u001b[0m \u001b[43m            \u001b[49m\u001b[43margs\u001b[49m\u001b[38;5;241;43m.\u001b[39;49m\u001b[43mdownload_dir\u001b[49m\u001b[43m,\u001b[49m\n\u001b[1;32m    114\u001b[0m \u001b[43m        \u001b[49m\u001b[43m)\u001b[49m\n\u001b[1;32m    115\u001b[0m         covered_years\u001b[38;5;241m.\u001b[39madd(extract_year(file_link))\n\u001b[1;32m    117\u001b[0m logger\u001b[38;5;241m.\u001b[39minfo(\u001b[38;5;124m\"\u001b[39m\u001b[38;5;124mProcessing date files\u001b[39m\u001b[38;5;124m\"\u001b[39m)\n",
      "File \u001b[0;32m~/Projects/JRDBDataParsingTools/JRDBDataParsingTools/file_downloader.py:38\u001b[0m, in \u001b[0;36mdownload_and_extract\u001b[0;34m(base_url, file_link, username, password, download_dir)\u001b[0m\n\u001b[1;32m     37\u001b[0m \u001b[38;5;28;01mdef\u001b[39;00m \u001b[38;5;21mdownload_and_extract\u001b[39m(base_url, file_link, username, password, download_dir):\n\u001b[0;32m---> 38\u001b[0m     full_url \u001b[38;5;241m=\u001b[39m \u001b[43murljoin\u001b[49m\u001b[43m(\u001b[49m\u001b[43mbase_url\u001b[49m\u001b[43m,\u001b[49m\u001b[43m \u001b[49m\u001b[43mfile_link\u001b[49m\u001b[43m)\u001b[49m\n\u001b[1;32m     39\u001b[0m     logger\u001b[38;5;241m.\u001b[39minfo(\u001b[38;5;124mf\u001b[39m\u001b[38;5;124m\"\u001b[39m\u001b[38;5;124mDownloading \u001b[39m\u001b[38;5;132;01m{\u001b[39;00mfull_url\u001b[38;5;132;01m}\u001b[39;00m\u001b[38;5;124m\"\u001b[39m)\n\u001b[1;32m     40\u001b[0m     file_response \u001b[38;5;241m=\u001b[39m requests\u001b[38;5;241m.\u001b[39mget(full_url, auth\u001b[38;5;241m=\u001b[39m(username, password), stream\u001b[38;5;241m=\u001b[39m\u001b[38;5;28;01mTrue\u001b[39;00m)\n",
      "File \u001b[0;32m/opt/homebrew/Cellar/python@3.11/3.11.6_1/Frameworks/Python.framework/Versions/3.11/lib/python3.11/urllib/parse.py:547\u001b[0m, in \u001b[0;36murljoin\u001b[0;34m(base, url, allow_fragments)\u001b[0m\n\u001b[1;32m    544\u001b[0m \u001b[38;5;28;01mif\u001b[39;00m \u001b[38;5;129;01mnot\u001b[39;00m url:\n\u001b[1;32m    545\u001b[0m     \u001b[38;5;28;01mreturn\u001b[39;00m base\n\u001b[0;32m--> 547\u001b[0m base, url, _coerce_result \u001b[38;5;241m=\u001b[39m \u001b[43m_coerce_args\u001b[49m\u001b[43m(\u001b[49m\u001b[43mbase\u001b[49m\u001b[43m,\u001b[49m\u001b[43m \u001b[49m\u001b[43murl\u001b[49m\u001b[43m)\u001b[49m\n\u001b[1;32m    548\u001b[0m bscheme, bnetloc, bpath, bparams, bquery, bfragment \u001b[38;5;241m=\u001b[39m \\\n\u001b[1;32m    549\u001b[0m         urlparse(base, \u001b[38;5;124m'\u001b[39m\u001b[38;5;124m'\u001b[39m, allow_fragments)\n\u001b[1;32m    550\u001b[0m scheme, netloc, path, params, query, fragment \u001b[38;5;241m=\u001b[39m \\\n\u001b[1;32m    551\u001b[0m         urlparse(url, bscheme, allow_fragments)\n",
      "File \u001b[0;32m/opt/homebrew/Cellar/python@3.11/3.11.6_1/Frameworks/Python.framework/Versions/3.11/lib/python3.11/urllib/parse.py:130\u001b[0m, in \u001b[0;36m_coerce_args\u001b[0;34m(*args)\u001b[0m\n\u001b[1;32m    126\u001b[0m \u001b[38;5;28;01mfor\u001b[39;00m arg \u001b[38;5;129;01min\u001b[39;00m args[\u001b[38;5;241m1\u001b[39m:]:\n\u001b[1;32m    127\u001b[0m     \u001b[38;5;66;03m# We special-case the empty string to support the\u001b[39;00m\n\u001b[1;32m    128\u001b[0m     \u001b[38;5;66;03m# \"scheme=''\" default argument to some functions\u001b[39;00m\n\u001b[1;32m    129\u001b[0m     \u001b[38;5;28;01mif\u001b[39;00m arg \u001b[38;5;129;01mand\u001b[39;00m \u001b[38;5;28misinstance\u001b[39m(arg, \u001b[38;5;28mstr\u001b[39m) \u001b[38;5;241m!=\u001b[39m str_input:\n\u001b[0;32m--> 130\u001b[0m         \u001b[38;5;28;01mraise\u001b[39;00m \u001b[38;5;167;01mTypeError\u001b[39;00m(\u001b[38;5;124m\"\u001b[39m\u001b[38;5;124mCannot mix str and non-str arguments\u001b[39m\u001b[38;5;124m\"\u001b[39m)\n\u001b[1;32m    131\u001b[0m \u001b[38;5;28;01mif\u001b[39;00m str_input:\n\u001b[1;32m    132\u001b[0m     \u001b[38;5;28;01mreturn\u001b[39;00m args \u001b[38;5;241m+\u001b[39m (_noop,)\n",
      "\u001b[0;31mTypeError\u001b[0m: Cannot mix str and non-str arguments"
     ]
    }
   ],
   "source": [
    "from JRDBDataParsingTools.file_downloader import download_and_extract_files\n",
    "\n",
    "\n",
    "# Assume `webpage_url` is the URL of the webpage you provided\n",
    "webpage_url = \"http://www.jrdb.com/member/datazip/Kyi/index.html\"\n",
    "\n",
    "# Your actual credentials for basic authentication\n",
    "username = \"23120002\"\n",
    "password = \"83030141\"\n",
    "\n",
    "# The directory where you want to download the files\n",
    "download_dir = \"/Users/hankehly/Projects/JRDBDataParsingTools/downloads\"\n",
    "\n",
    "download_and_extract_files(webpage_url, username, password, download_dir)"
   ]
  }
 ],
 "metadata": {
  "kernelspec": {
   "display_name": "Python 3 (ipykernel)",
   "language": "python",
   "name": "python3"
  },
  "language_info": {
   "codemirror_mode": {
    "name": "ipython",
    "version": 3
   },
   "file_extension": ".py",
   "mimetype": "text/x-python",
   "name": "python",
   "nbconvert_exporter": "python",
   "pygments_lexer": "ipython3",
   "version": "3.11.6"
  }
 },
 "nbformat": 4,
 "nbformat_minor": 5
}
