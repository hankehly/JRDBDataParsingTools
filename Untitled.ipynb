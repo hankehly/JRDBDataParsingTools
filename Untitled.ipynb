{
 "cells": [
  {
   "cell_type": "code",
   "execution_count": 38,
   "id": "a0803387-a429-46e9-8804-1d116d719ddb",
   "metadata": {},
   "outputs": [
    {
     "name": "stderr",
     "output_type": "stream",
     "text": [
      "23/12/16 14:30:06 WARN NativeCodeLoader: Unable to load native-hadoop library for your platform... using builtin-java classes where applicable\n",
      "Setting default log level to \"WARN\".\n",
      "To adjust logging level use sc.setLogLevel(newLevel). For SparkR, use setLogLevel(newLevel).\n"
     ]
    }
   ],
   "source": [
    "from pyspark.sql import SparkSession\n",
    "from JRDBDataParsingTools.parse import load_schema, parse_line, create_pyspark_schema\n",
    "from pyspark.sql import functions as f\n",
    "import pandas as pd\n",
    "from typing import List\n",
    "import functools\n",
    "\n",
    "\n",
    "# Set display options\n",
    "pd.set_option(\"display.max_columns\", None)  # Ensures all columns are displayed\n",
    "pd.set_option(\"display.expand_frame_repr\", False)  # Disable wrapping of the DataFrame\n",
    "\n",
    "\n",
    "spark = SparkSession.builder.config(\"spark.jars\", \"postgresql-42.7.1.jar\").getOrCreate()"
   ]
  },
  {
   "cell_type": "markdown",
   "id": "45ef431f",
   "metadata": {},
   "source": [
    "Add required schemas and roles to the database.\n",
    "\n",
    "```sql\n",
    "CREATE SCHEMA IF NOT EXISTS bronze\n",
    "    AUTHORIZATION myuser;\n",
    "\n",
    "COMMENT ON SCHEMA public\n",
    "    IS 'bronze layer schema';\n",
    "\n",
    "GRANT ALL ON SCHEMA public TO myuser;\n",
    "```"
   ]
  },
  {
   "cell_type": "code",
   "execution_count": 39,
   "id": "91f75533",
   "metadata": {},
   "outputs": [],
   "source": [
    "jdbc_common_options = {\n",
    "    \"url\": \"jdbc:postgresql://localhost:5432/jrdb\",\n",
    "    \"user\": \"myuser\",\n",
    "    \"password\": \"mypassword\",\n",
    "    \"driver\": \"org.postgresql.Driver\"\n",
    "}"
   ]
  },
  {
   "cell_type": "code",
   "execution_count": 13,
   "id": "8a8aa80f",
   "metadata": {},
   "outputs": [
    {
     "name": "stderr",
     "output_type": "stream",
     "text": [
      "23/12/16 13:20:48 WARN SparkStringUtils: Truncated the string representation of a plan since it was too large. This behavior can be adjusted by setting 'spark.sql.debug.maxToStringFields'.\n",
      "                                                                                \r"
     ]
    }
   ],
   "source": [
    "(\n",
    "    spark.read.format(\"binaryFile\")\n",
    "    .load(\"jrdb-data/SED*.txt\")\n",
    "    .select(\"content\")\n",
    "    .rdd.flatMap(lambda x: x[0].splitlines())\n",
    "    .map(functools.partial(parse_line, schema=load_schema(\"schemas/SED.yaml\")))\n",
    "    .toDF(create_pyspark_schema(load_schema(\"schemas/SED.yaml\")))\n",
    "    .withColumn(\"input_file_name\", f.input_file_name())\n",
    "    .write.format(\"jdbc\")\n",
    "    .options(**jdbc_common_options)\n",
    "    .option(\"dbtable\", \"bronze.sed\")\n",
    "    .mode(\"overwrite\")\n",
    "    .save()\n",
    ")"
   ]
  },
  {
   "cell_type": "code",
   "execution_count": 41,
   "id": "b88f7e51",
   "metadata": {},
   "outputs": [
    {
     "name": "stderr",
     "output_type": "stream",
     "text": [
      "                                                                                \r"
     ]
    }
   ],
   "source": [
    "(\n",
    "    spark.read.format(\"binaryFile\")\n",
    "    .load(\"downloads/KYI*.txt\")\n",
    "    .select(\"content\")\n",
    "    .rdd.flatMap(lambda x: x[0].splitlines())\n",
    "    .map(functools.partial(parse_line, schema=load_schema(\"schemas/KYI.yaml\")))\n",
    "    .toDF(create_pyspark_schema(load_schema(\"schemas/KYI.yaml\")))\n",
    "    .withColumn(\"input_file_name\", f.input_file_name())\n",
    "    .write.format(\"jdbc\")\n",
    "    .options(**jdbc_common_options)\n",
    "    .option(\"dbtable\", \"bronze.kyi\")\n",
    "    .mode(\"overwrite\")\n",
    "    .save()\n",
    ")"
   ]
  },
  {
   "cell_type": "code",
   "execution_count": 15,
   "id": "5aa5bb3f",
   "metadata": {},
   "outputs": [
    {
     "name": "stderr",
     "output_type": "stream",
     "text": [
      "                                                                                \r"
     ]
    }
   ],
   "source": [
    "(\n",
    "    spark.read.format(\"binaryFile\")\n",
    "    .load(\"jrdb-data/UKC*.txt\")\n",
    "    .select(\"content\")\n",
    "    .rdd.flatMap(lambda x: x[0].splitlines())\n",
    "    .map(functools.partial(parse_line, schema=load_schema(\"schemas/UKC.yaml\")))\n",
    "    .toDF(create_pyspark_schema(load_schema(\"schemas/UKC.yaml\")))\n",
    "    .withColumn(\"input_file_name\", f.input_file_name())\n",
    "    .write.format(\"jdbc\")\n",
    "    .options(**jdbc_common_options)\n",
    "    .option(\"dbtable\", \"bronze.ukc\")\n",
    "    .mode(\"overwrite\")\n",
    "    .save()\n",
    ")"
   ]
  },
  {
   "cell_type": "code",
   "execution_count": 16,
   "id": "3c4d9c84",
   "metadata": {},
   "outputs": [
    {
     "name": "stderr",
     "output_type": "stream",
     "text": [
      "                                                                                \r"
     ]
    }
   ],
   "source": [
    "(\n",
    "    spark.read.format(\"binaryFile\")\n",
    "    .load(\"jrdb-data/BAC*.txt\")\n",
    "    .select(\"content\")\n",
    "    .rdd.flatMap(lambda x: x[0].splitlines())\n",
    "    .map(functools.partial(parse_line, schema=load_schema(\"schemas/BAC.yaml\")))\n",
    "    .toDF(create_pyspark_schema(load_schema(\"schemas/BAC.yaml\")))\n",
    "    .withColumn(\"input_file_name\", f.input_file_name())\n",
    "    .write.format(\"jdbc\")\n",
    "    .options(**jdbc_common_options)\n",
    "    .option(\"dbtable\", \"bronze.bac\")\n",
    "    .mode(\"overwrite\")\n",
    "    .save()\n",
    ")"
   ]
  },
  {
   "cell_type": "code",
   "execution_count": 17,
   "id": "c390bcf2",
   "metadata": {},
   "outputs": [
    {
     "name": "stderr",
     "output_type": "stream",
     "text": [
      "                                                                                \r"
     ]
    }
   ],
   "source": [
    "df = (\n",
    "    spark.read.format(\"binaryFile\")\n",
    "    .load(\"jrdb-data/OZ*.txt\")\n",
    "    .select(\"content\")\n",
    "    .rdd.flatMap(lambda x: x[0].splitlines())\n",
    "    .map(functools.partial(parse_line, schema=load_schema(\"schemas/OZ.yaml\")))\n",
    "    .toDF(create_pyspark_schema(load_schema(\"schemas/OZ.yaml\")))\n",
    ")\n",
    "\n",
    "(\n",
    "    df\n",
    "    .withColumn(\"input_file_name\", f.input_file_name())\n",
    "    .write.format(\"jdbc\")\n",
    "    .options(**jdbc_common_options)\n",
    "    .option(\"dbtable\", \"bronze.oz\")\n",
    "    .mode(\"overwrite\")\n",
    "    .save()\n",
    ")"
   ]
  },
  {
   "cell_type": "code",
   "execution_count": 1,
   "id": "0b21435f",
   "metadata": {},
   "outputs": [
    {
     "name": "stderr",
     "output_type": "stream",
     "text": [
      "{\"event\": \"Downloading and extracting files from http://www.jrdb.com/member/datazip/Kyi/index.html\", \"level\": \"info\", \"timestamp\": \"2023-12-16T05:55:04.165962Z\", \"logger\": \"JRDBDataParsingTools.download\"}\n",
      "{\"event\": \"Response status code: 200\", \"level\": \"info\", \"timestamp\": \"2023-12-16T05:55:04.811757Z\", \"logger\": \"JRDBDataParsingTools.download\"}\n",
      "{\"event\": \"Parsing webpage\", \"level\": \"info\", \"timestamp\": \"2023-12-16T05:55:04.812876Z\", \"logger\": \"JRDBDataParsingTools.download\"}\n",
      "{\"event\": \"Processing year files\", \"level\": \"info\", \"timestamp\": \"2023-12-16T05:55:05.054696Z\", \"logger\": \"JRDBDataParsingTools.download\"}\n",
      "{\"event\": \"Extracted files from KYI_2022.zip\", \"level\": \"info\", \"timestamp\": \"2023-12-16T05:55:17.483159Z\", \"logger\": \"JRDBDataParsingTools.download\"}\n",
      "{\"event\": \"Extracted files from KYI_2021.zip\", \"level\": \"info\", \"timestamp\": \"2023-12-16T05:55:30.329634Z\", \"logger\": \"JRDBDataParsingTools.download\"}\n",
      "{\"event\": \"Extracted files from KYI_2020.zip\", \"level\": \"info\", \"timestamp\": \"2023-12-16T05:55:43.402609Z\", \"logger\": \"JRDBDataParsingTools.download\"}\n",
      "{\"event\": \"Extracted files from KYI_2019.zip\", \"level\": \"info\", \"timestamp\": \"2023-12-16T05:55:56.460144Z\", \"logger\": \"JRDBDataParsingTools.download\"}\n",
      "{\"event\": \"Extracted files from KYI_2018.zip\", \"level\": \"info\", \"timestamp\": \"2023-12-16T05:56:09.109272Z\", \"logger\": \"JRDBDataParsingTools.download\"}\n",
      "{\"event\": \"Extracted files from KYI_2017.zip\", \"level\": \"info\", \"timestamp\": \"2023-12-16T05:56:22.736314Z\", \"logger\": \"JRDBDataParsingTools.download\"}\n",
      "{\"event\": \"Extracted files from KYI_2016.zip\", \"level\": \"info\", \"timestamp\": \"2023-12-16T05:56:36.809003Z\", \"logger\": \"JRDBDataParsingTools.download\"}\n",
      "{\"event\": \"Extracted files from KYI_2015.zip\", \"level\": \"info\", \"timestamp\": \"2023-12-16T05:56:50.511368Z\", \"logger\": \"JRDBDataParsingTools.download\"}\n",
      "{\"event\": \"Extracted files from KYI_2014.zip\", \"level\": \"info\", \"timestamp\": \"2023-12-16T05:57:04.600082Z\", \"logger\": \"JRDBDataParsingTools.download\"}\n",
      "{\"event\": \"Extracted files from KYI_2013.zip\", \"level\": \"info\", \"timestamp\": \"2023-12-16T05:57:18.416598Z\", \"logger\": \"JRDBDataParsingTools.download\"}\n"
     ]
    }
   ],
   "source": [
    "from JRDBDataParsingTools.download import download_and_extract_files\n",
    "\n",
    "\n",
    "# Assume `webpage_url` is the URL of the webpage you provided\n",
    "webpage_url = \"http://www.jrdb.com/member/datazip/Kyi/index.html\"\n",
    "\n",
    "# Your actual credentials for basic authentication\n",
    "username = \"23120002\"\n",
    "password = \"83030141\"\n",
    "\n",
    "# The directory where you want to download the files\n",
    "download_dir = \"downloads\"\n",
    "\n",
    "download_and_extract_files(webpage_url, username, password, download_dir)"
   ]
  }
 ],
 "metadata": {
  "kernelspec": {
   "display_name": "Python 3 (ipykernel)",
   "language": "python",
   "name": "python3"
  },
  "language_info": {
   "codemirror_mode": {
    "name": "ipython",
    "version": 3
   },
   "file_extension": ".py",
   "mimetype": "text/x-python",
   "name": "python",
   "nbconvert_exporter": "python",
   "pygments_lexer": "ipython3",
   "version": "3.11.6"
  }
 },
 "nbformat": 4,
 "nbformat_minor": 5
}
